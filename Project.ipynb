{
 "cells": [
  {
   "cell_type": "code",
   "execution_count": 165,
   "metadata": {},
   "outputs": [],
   "source": [
    "from commonfunctions import *\n",
    "from sklearn import svm, datasets\n",
    "import sklearn.model_selection as model_selection\n",
    "from sklearn.metrics import accuracy_score\n",
    "from sklearn.metrics import f1_score\n",
    "from scipy.signal import argrelextrema\n",
    "import cv2\n",
    "import os\n",
    "from skimage.filters import threshold_mean\n",
    "from skimage import transform\n",
    "from skimage.color import rgb2gray\n",
    "from skimage.segmentation import flood, flood_fill\n",
    "from sklearn.tree import DecisionTreeClassifier\n",
    "from sklearn.metrics import confusion_matrix\n",
    "from skimage.feature import peak_local_max"
   ]
  },
  {
   "cell_type": "code",
   "execution_count": 166,
   "metadata": {},
   "outputs": [],
   "source": [
    "######## return hog features from input image #########\n",
    "def extract_hog_features(img):\n",
    "    target_img_size = (64, 64)\n",
    "    img = cv2.resize(img, target_img_size)\n",
    "    win_size = (64, 64)\n",
    "    cell_size = (8, 8)\n",
    "    block_size_in_cells = (2, 2)\n",
    "    \n",
    "    block_size = (block_size_in_cells[1] * cell_size[1], block_size_in_cells[0] * cell_size[0])\n",
    "    block_stride = (cell_size[1], cell_size[0])\n",
    "    nbins = 9  # Number of orientation bins\n",
    "    hog = cv2.HOGDescriptor(win_size, block_size, block_stride, cell_size, nbins)\n",
    "    h = hog.compute(img)\n",
    "    h = h.flatten()\n",
    "    return h.flatten()"
   ]
  },
  {
   "cell_type": "code",
   "execution_count": 167,
   "metadata": {},
   "outputs": [],
   "source": [
    "import glob\n",
    "x=[]\n",
    "x = glob.glob(\"N:\\Downloads\\ACdata_base\\\\1\\\\*\")\n",
    "x.extend(glob.glob(\"N:\\Downloads\\ACdata_base\\\\2\\\\*\"))\n",
    "x.extend(glob.glob(\"N:\\Downloads\\ACdata_base\\\\3\\\\*\"))\n",
    "x.extend(glob.glob(\"N:\\Downloads\\ACdata_base\\\\4\\\\*\"))\n",
    "x.extend(glob.glob(\"N:\\Downloads\\ACdata_base\\\\5\\\\*\"))\n",
    "x.extend(glob.glob(\"N:\\Downloads\\ACdata_base\\\\6\\\\*\"))\n",
    "x.extend(glob.glob(\"N:\\Downloads\\ACdata_base\\\\7\\\\*\"))\n",
    "x.extend(glob.glob(\"N:\\Downloads\\ACdata_base\\\\8\\\\*\"))\n",
    "x.extend(glob.glob(\"N:\\Downloads\\ACdata_base\\\\9\\\\*\"))\n",
    "# images, y = load_images_from_folder([\"N:\\Downloads\\ACdata_base\\\\7\",\"N:\\Downloads\\ACdata_base\\\\9\"])\n",
    "\n",
    "    \n",
    "images, y = load_images_from_folder([\"N:\\Downloads\\ACdata_base\\\\1\",\"N:\\Downloads\\ACdata_base\\\\2\",\"N:\\Downloads\\ACdata_base\\\\3\",\"N:\\Downloads\\ACdata_base\\\\4\",\"N:\\Downloads\\ACdata_base\\\\5\",\"N:\\Downloads\\ACdata_base\\\\6\",\"N:\\Downloads\\ACdata_base\\\\7\",\"N:\\Downloads\\ACdata_base\\\\8\",\"N:\\Downloads\\ACdata_base\\\\9\"])\n"
   ]
  },
  {
   "cell_type": "code",
   "execution_count": 168,
   "metadata": {},
   "outputs": [],
   "source": [
    "####### return hog features from arr of images ###########\n",
    "def feature_extraction_hog(images):\n",
    "    feature = []\n",
    "    for img in images:\n",
    "        img = img.astype('uint8')\n",
    "        img = cv2.resize(img, (64, 64), cv2.INTER_AREA)\n",
    "        featuresHog = extract_hog_features(img.astype('uint8'))\n",
    "        feature.append(featuresHog)\n",
    "    return feature"
   ]
  },
  {
   "cell_type": "code",
   "execution_count": 169,
   "metadata": {},
   "outputs": [],
   "source": [
    "######## binarize image ##########\n",
    "def local_binarize(img, block_size = 35, offset_val = 10):\n",
    "    img=img_as_ubyte(img)\n",
    "    return img < threshold_otsu(img)\n"
   ]
  },
  {
   "cell_type": "code",
   "execution_count": 170,
   "metadata": {},
   "outputs": [],
   "source": [
    "###### function that takes the folder of the dataset then returns array of images and their labels ########\n",
    "def load_images_from_folder(folders):\n",
    "    images = []\n",
    "    y=[]\n",
    "    i = 1\n",
    "    for folder in folders:   \n",
    "        for filename in os.listdir(folder):\n",
    "            img = io.imread(os.path.join(folder,filename), as_gray = True)\n",
    "            if img is not None:\n",
    "\n",
    "                images.append(local_binarize(img))\n",
    "                y.append(i)\n",
    "        i+=1\n",
    "    return images, y"
   ]
  },
  {
   "cell_type": "code",
   "execution_count": 188,
   "metadata": {},
   "outputs": [],
   "source": [
    "############### function that extracts hog features from dataset ###################\n",
    "def process_Hog():    \n",
    "    features = feature_extraction_hog(images)\n",
    "    return features, y"
   ]
  },
  {
   "cell_type": "code",
   "execution_count": 189,
   "metadata": {},
   "outputs": [
    {
     "name": "stdout",
     "output_type": "stream",
     "text": [
      "Accuracy (Polynomial Kernel):  86.05\n",
      "F1 (Polynomial Kernel):  85.88\n"
     ]
    }
   ],
   "source": [
    "################ demo test for hog extraction from dataset using support vector machine\n",
    "X, y = process_Hog()\n",
    "X_train, X_test, y_train, y_test = model_selection.train_test_split(X, y, test_size=0.2, random_state=1)\n",
    "X_train, X_val, y_train, y_val = model_selection.train_test_split(X_train, y_train, test_size=0.25, random_state=1) # 0.25 x 0.8 = 0.2\n",
    "poly = svm.SVC(kernel='rbf', degree=3, C=5).fit(X_train, y_train)\n",
    "poly_pred = poly.predict(X_test)\n",
    "poly_accuracy = accuracy_score(y_test, poly_pred)\n",
    "poly_f1 = f1_score(y_test, poly_pred, average='weighted')\n",
    "print('Accuracy (Polynomial Kernel): ', \"%.2f\" % (poly_accuracy*100))\n",
    "print('F1 (Polynomial Kernel): ', \"%.2f\" % (poly_f1*100))\n"
   ]
  },
  {
   "cell_type": "code",
   "execution_count": 173,
   "metadata": {},
   "outputs": [],
   "source": [
    "####### function that returns the row of the text basline #######\n",
    "def baseline(img):\n",
    "    horizontal_projection = np.sum(img, axis=1)\n",
    "    return np.argmax(horizontal_projection)\n"
   ]
  },
  {
   "cell_type": "code",
   "execution_count": 310,
   "metadata": {},
   "outputs": [],
   "source": [
    "######### Horizontal profile projection ###########\n",
    "\n",
    "from scipy.signal import find_peaks\n",
    "\n",
    "def HPP(img):\n",
    "    horizontal_projection = np.sum(img, axis=1)\n",
    "    horizontal_projection=peak_local_max(horizontal_projection, min_distance=3).size\n",
    "    return horizontal_projection\n"
   ]
  },
  {
   "cell_type": "code",
   "execution_count": 175,
   "metadata": {},
   "outputs": [],
   "source": [
    "def count_contour(img,minArea):\n",
    "    find_contour_img=find_contours(img,0.5)\n",
    "    i=0\n",
    "    vertical_lines_height = []\n",
    "    max_height = 0.0001\n",
    "    variance=0\n",
    "    for box in find_contour_img:  \n",
    "        Xmin=min(box[:,1])\n",
    "        Xmax=max(box[:,1])\n",
    "        Ymin=min(box[:,0])\n",
    "        Ymax=max(box[:,0])\n",
    "        if (Ymax-Ymin)*(Xmax-Xmin)>minArea:\n",
    "            vertical_lines_height.append(Ymax-Ymin)\n",
    "            i+=1\n",
    "    if vertical_lines_height != []:\n",
    "        max_height=max(vertical_lines_height)\n",
    "        variance=np.var(vertical_lines_height)\n",
    "    return i, max_height, variance"
   ]
  },
  {
   "cell_type": "code",
   "execution_count": 176,
   "metadata": {},
   "outputs": [],
   "source": [
    "######### takes binary image and returns skeleton, edge, text-only, diacretecs image\n",
    "def processing_images(binary_img):\n",
    "    bw_img=binary_img\n",
    "    baseline_i=baseline(bw_img)\n",
    "    seeds=[]\n",
    "    for j in range(bw_img.shape[1]-1):\n",
    "        if(bw_img[baseline_i][j]==False and bw_img[baseline_i][j+1]==True):\n",
    "            seeds.append(j+1)\n",
    "    diacritics = bw_img\n",
    "    for j in seeds:\n",
    "        diacritics = flood_fill(diacritics, (baseline_i, j), False)\n",
    "    text_only = bw_img != diacritics\n",
    "    sobel_img = sobel(bw_img)\n",
    "    skeletonized_img=skeletonize(bw_img)\n",
    "    \n",
    "    return sobel_img, skeletonized_img, diacritics, text_only"
   ]
  },
  {
   "cell_type": "code",
   "execution_count": 177,
   "metadata": {},
   "outputs": [],
   "source": [
    "####### function that returns num of horizontal and vertical lines\n",
    "def HVSL(bw_image):\n",
    "    # hough line to detect lines in the photo\n",
    "    tested_angles = np.linspace(-np.pi / 2, np.pi / 2, 2)\n",
    "    h, theta, d = hough_line(bw_image, theta=tested_angles)\n",
    "    origin = np.array((0, bw_image.shape[1]))\n",
    "    # hough peaks to get those lines\n",
    "    angles=[]\n",
    "    for _, angle, dist in zip(*hough_line_peaks(h, theta, d)):\n",
    "        y0, y1 = (dist - origin * np.cos(angle)) / np.sin(angle)\n",
    "        angles.append(angle)\n",
    "    angles = [angle * 180 / np.pi for angle in angles]\n",
    "    return angles.count(90.0), angles.count(180.0)\n",
    "\n"
   ]
  },
  {
   "cell_type": "code",
   "execution_count": 178,
   "metadata": {},
   "outputs": [],
   "source": [
    "################### 1st feature ##################\n",
    "def HVSL_features(edge):\n",
    "    vertical_lines, horizontal_lines = HVSL(edge)\n",
    "    if(vertical_lines+horizontal_lines) == 0:\n",
    "        horizontal_lines=.0001\n",
    "    ratio_pixels_HVL = np.count_nonzero(edge)/(vertical_lines + horizontal_lines)\n",
    "    return vertical_lines, horizontal_lines, ratio_pixels_HVL\n",
    "    "
   ]
  },
  {
   "cell_type": "code",
   "execution_count": 308,
   "metadata": {},
   "outputs": [],
   "source": [
    "def text_HVSL_feature(edge):\n",
    "    edge = img_as_ubyte(edge)\n",
    "    fld = cv2.ximgproc.createFastLineDetector()\n",
    "    lines = fld.detect(edge)\n",
    "    vertical_lines = (lines[:,0,0] == lines[:,0,2]).sum()\n",
    "    horizontal_lines = (lines[:,0,1] == lines[:,0,3]).sum()\n",
    "    if(vertical_lines+horizontal_lines) == 0:\n",
    "        horizontal_lines=.0001\n",
    "    freq_appearance_ratio = (vertical_lines+horizontal_lines)/len(lines)\n",
    "    ratio_pixels_HVL = np.count_nonzero(edge)/freq_appearance_ratio\n",
    "    return freq_appearance_ratio, ratio_pixels_HVL\n"
   ]
  },
  {
   "cell_type": "code",
   "execution_count": 180,
   "metadata": {},
   "outputs": [],
   "source": [
    "def text_height_feature(skeleton):\n",
    "    skeleton = img_as_ubyte(skeleton)\n",
    "    kernel_vertical_line=np.ones((3,1))\n",
    "    line = cv2.morphologyEx(skeleton, cv2.MORPH_OPEN, kernel_vertical_line)\n",
    "    line=line/255\n",
    "    num_of_verticle_lines, max_vertical_line_height, variance = count_contour(line,3*1)\n",
    "\n",
    "    start_height=0\n",
    "    end_height=0\n",
    "    for i in range(line.shape[0]):\n",
    "        if(np.any((line[i] == 1))):\n",
    "            start_height = i\n",
    "            break\n",
    "    for i in range(line.shape[0]-1, 0, -1):\n",
    "        if(np.any((line[i] == 1))):\n",
    "            end_height = i\n",
    "            break\n",
    "    text_height = abs(start_height-end_height)\n",
    "    return text_height, num_of_verticle_lines, max_vertical_line_height, text_height/max_vertical_line_height , variance\n",
    "\n"
   ]
  },
  {
   "cell_type": "code",
   "execution_count": 228,
   "metadata": {},
   "outputs": [
    {
     "name": "stdout",
     "output_type": "stream",
     "text": [
      "[[0.82666235 0.81881922 0.81097608 ... 1.         1.         1.        ]\n",
      " [0.83450549 0.82666235 0.81881922 ... 1.         1.         1.        ]\n",
      " [0.82274078 0.81881922 0.81489765 ... 1.         1.         1.        ]\n",
      " ...\n",
      " [0.73837804 0.73837804 0.73837804 ... 1.         1.         1.        ]\n",
      " [0.73445647 0.73445647 0.74229961 ... 1.         1.         1.        ]\n",
      " [0.73445647 0.73837804 0.74229961 ... 1.         1.         1.        ]]\n"
     ]
    },
    {
     "data": {
      "image/png": "[encoded data removed]",
      "text/plain": [
       "<Figure size 864x576 with 2 Axes>"
      ]
     },
     "metadata": {
      "needs_background": "light"
     },
     "output_type": "display_data"
    },
    {
     "name": "stdout",
     "output_type": "stream",
     "text": [
      "[[0.82666235 0.81881922 0.81097608 ... 1.         1.         1.        ]\n",
      " [0.83450549 0.82666235 0.81881922 ... 1.         1.         1.        ]\n",
      " [0.82274078 0.81881922 0.81489765 ... 1.         1.         1.        ]\n",
      " ...\n",
      " [0.73837804 0.73837804 0.73837804 ... 1.         1.         1.        ]\n",
      " [0.73445647 0.73445647 0.74229961 ... 1.         1.         1.        ]\n",
      " [0.73445647 0.73837804 0.74229961 ... 1.         1.         1.        ]] [[False False False ... False False False]\n",
      " [False False False ... False False False]\n",
      " [False False False ... False False False]\n",
      " ...\n",
      " [False False False ... False False False]\n",
      " [False False False ... False False False]\n",
      " [False False False ... False False False]]\n",
      "[[0.82666235 0.81881922 0.81097608 ... 1.         1.         1.        ]\n",
      " [0.83450549 0.82666235 0.81881922 ... 1.         1.         1.        ]\n",
      " [0.82274078 0.81881922 0.81489765 ... 1.         1.         1.        ]\n",
      " ...\n",
      " [0.73837804 0.73837804 0.73837804 ... 1.         1.         1.        ]\n",
      " [0.73445647 0.73445647 0.74229961 ... 1.         1.         1.        ]\n",
      " [0.73445647 0.73837804 0.74229961 ... 1.         1.         1.        ]]\n"
     ]
    },
    {
     "data": {
      "image/png": "[encoded data removed]",
      "text/plain": [
       "<Figure size 2160x1440 with 5 Axes>"
      ]
     },
     "metadata": {
      "needs_background": "light"
     },
     "output_type": "display_data"
    },
    {
     "name": "stdout",
     "output_type": "stream",
     "text": [
      "[0.07279693 0.05363985 0.03065134 0.02681992 0.01149425 0.01915709\n",
      " 0.01532567 0.01915709 0.04214559 0.05747126 0.07662835 0.09578544\n",
      " 0.08045977 0.07279693 0.06896552 0.06896552 0.05747126 0.04597701\n",
      " 0.06130268 0.0651341  0.06896552 0.08429119 0.10727969 0.13793103\n",
      " 0.16091954 0.18773946 0.18773946 0.1954023  0.21455939 0.23754789\n",
      " 0.24521073 0.26819923 0.2835249  0.27586207 0.30651341 0.29118774\n",
      " 0.31034483 0.3256705  0.39846743 0.47126437 0.53256705 0.6091954\n",
      " 0.62835249 0.6091954  0.64750958 0.63984674 0.65900383 0.69348659\n",
      " 0.67049808 0.66666667 0.61302682 0.57854406 0.6091954  0.651341\n",
      " 0.69348659 0.75478927 0.91954023 1.         0.98084291 0.90038314\n",
      " 0.59386973 0.30651341 0.14942529 0.09961686 0.06896552 0.06896552\n",
      " 0.07279693 0.05363985 0.06130268 0.06130268 0.04597701 0.03831418\n",
      " 0.04597701 0.03831418 0.03448276 0.03065134 0.02298851 0.01149425\n",
      " 0.         0.         0.         0.         0.         0.\n",
      " 0.         0.         0.00766284 0.00766284 0.01149425 0.00766284\n",
      " 0.02298851 0.01532567 0.00766284 0.         0.        ]\n"
     ]
    },
    {
     "data": {
      "text/plain": [
       "(89, 124, 16.0, 5.5625, 4.492374479708636)"
      ]
     },
     "execution_count": 228,
     "metadata": {},
     "output_type": "execute_result"
    }
   ],
   "source": [
    "img = io.imread('N:\\Downloads\\ACdata_base\\\\1\\\\0034.jpg', 1)\n",
    "print(img)\n",
    "\n",
    "img2 = images[0]\n",
    "        # target_img_size = (200, 200)\n",
    "        # # img = cv2.resize(img, target_img_size, cv2.INTER_AREA)\n",
    "show_images([img, img2],['img','img2'])\n",
    "print(img,img2)\n",
    "# bw_img=local_binarize(img)\n",
    "edge, skeleton, diacritics, text_only = processing_images(bw_img)\n",
    "\n",
    "print(img)\n",
    "bw_img=local_binarize(img)\n",
    "edge, skeleton, diacritics, text_only=processing_images(bw_img)\n",
    "show_images([bw_img, edge, skeleton, diacritics, text_only],['bw_img', 'edge', 'skeleton', 'diacritics', 'text_only'])\n",
    "\n",
    "HPP_features = HPP(bw_img)\n",
    "print(HPP_features)\n",
    "################### 1st feature ##################\n",
    "HVSL_features(edge)\n",
    "################## 3st feature ###################\n",
    "text_height_feature(skeleton)\n",
    "\n",
    "\n",
    "\n",
    "###############################\n",
    "# line_width, line_space, _ = find_ref_lengths(bw_img)\n",
    "# max_vertical_line_height, _, _ = find_ref_lengths(line)\n",
    "# print(max_vertical_line_height,\"max\")\n",
    "####################################\n"
   ]
  },
  {
   "cell_type": "code",
   "execution_count": null,
   "metadata": {},
   "outputs": [],
   "source": []
  },
  {
   "cell_type": "code",
   "execution_count": 335,
   "metadata": {},
   "outputs": [],
   "source": [
    "############### function that extracts hog features from dataset ###################\n",
    "def process_LVL_HVSL():\n",
    "    featuresLVL =[]\n",
    "    featuresHVSL=[]\n",
    "    HPP_features=[]\n",
    "    featuresToE=[]\n",
    "    featuresToS=[]\n",
    "\n",
    "    for img in images:\n",
    "        # img = img.astype('uint8')\n",
    "        # img = cv2.resize(img, (400, 400))\n",
    "\n",
    "        bw_img=img\n",
    "        # img = io.imread(path, 1)\n",
    "        # print(img)\n",
    "        # # target_img_size = (200, 200)\n",
    "        if(sum(img[0]>0)):\n",
    "            bw_img= np.invert(bw_img)\n",
    "        # img = color.rgb2gray(img)\n",
    "        # print(img)\n",
    "        # bw_img=local_binarize(img)\n",
    "        edge, skeleton, diacritics, text_only = processing_images(bw_img)\n",
    "        # show_images([edge, skeleton],['edge','skeleton'])\n",
    "        # skeleton = skeleton.astype('uint8')\n",
    "        # resized_skeleton = cv2.resize(skeleton, (64, 64), cv2.INTER_AREA)\n",
    "        featuresLVL.append(text_height_feature(skeleton))\n",
    "        featuresHVSL.append(text_HVSL_feature(edge))\n",
    "        HPP_features.append(HPP(bw_img))\n",
    "\n",
    "        edge = edge.astype('uint8')\n",
    "        edge = cv2.resize(edge, (64, 64), cv2.INTER_AREA)\n",
    "        skeleton = skeleton.astype('uint8')\n",
    "        skeleton = cv2.resize(skeleton, (64, 64), cv2.INTER_AREA)\n",
    "\n",
    "        featuresToS.append(extract_hog_features(skeleton.astype('uint8')))\n",
    "        featuresToE.append(extract_hog_features(edge.astype('uint8')))\n",
    "\n",
    "        # print(extract_hog_features(skeleton))\n",
    "\n",
    "    return featuresLVL,featuresHVSL, HPP_features, featuresToS, featuresToE, y"
   ]
  },
  {
   "cell_type": "code",
   "execution_count": 336,
   "metadata": {},
   "outputs": [],
   "source": [
    "# def process_HVSL():\n",
    "#     features =[]\n",
    "#     for path in x:\n",
    "#         img = io.imread(path, 1)\n",
    "#         bw_img=local_binarize(img)\n",
    "#         edge, skeleton, diacritics, text_only=processing_images(bw_img)\n",
    "#     return features, y"
   ]
  },
  {
   "cell_type": "code",
   "execution_count": 346,
   "metadata": {},
   "outputs": [],
   "source": [
    "################ demo test for LVL extraction from dataset using Decision Trees\n",
    " \n",
    "XLVL, XHVSL,XHPP, featuresToS, featuresToE,y = process_LVL_HVSL()\n",
    "X_train, X_test, y_train, y_test = model_selection.train_test_split(XLVL, y, test_size=0.2, random_state=1)\n",
    "X_train, X_val, y_train, y_val = model_selection.train_test_split(X_train, y_train, test_size=0.25, random_state=1) # 0.25 x 0.8 = 0.2\n",
    "clf = DecisionTreeClassifier().fit(X_train, y_train)\n",
    "clf_pred = clf.predict(X_test)\n",
    "clf_accuracy = accuracy_score(y_test, clf_pred)\n",
    "clf_f1 = f1_score(y_test, clf_pred, average='weighted')\n",
    "print('Accuracy (LVL): ', \"%.2f\" % (clf_accuracy*100))\n",
    "print('F1 (LVL): ', \"%.2f\" % (clf_f1*100))\n",
    "\n",
    "################# demo test for HVSL extraction from dataset using Decision Trees\n",
    "\n",
    "\n",
    "X_train, X_test, y_train, y_test = model_selection.train_test_split(XHVSL, y, test_size=0.2, random_state=1)\n",
    "X_train, X_val, y_train, y_val = model_selection.train_test_split(X_train, y_train, test_size=0.25, random_state=1) # 0.25 x 0.8 = 0.2\n",
    "clf = DecisionTreeClassifier().fit(X_train, y_train)\n",
    "clf_pred = clf.predict(X_test)\n",
    "clf_accuracy = accuracy_score(y_test, clf_pred)\n",
    "clf_f1 = f1_score(y_test, clf_pred, average='weighted')\n",
    "print('Accuracy (HVSL): ', \"%.2f\" % (clf_accuracy*100))\n",
    "print('F1 (HVSL): ', \"%.2f\" % (clf_f1*100))\n",
    "\n",
    "\n",
    "#########\n",
    "\n",
    "X_train, X_test, y_train, y_test = model_selection.train_test_split(XHPP, y, test_size=0.2, random_state=1)\n",
    "X_train, X_val, y_train, y_val = model_selection.train_test_split(X_train, y_train, test_size=0.25, random_state=1) # 0.25 x 0.8 = 0.2\n",
    "X_train= np.array(X_train).reshape(-1, 1)\n",
    "# # y_train= np.array( y_train).reshape(-1, 1)\n",
    "X_test =  np.array(X_test).reshape(-1, 1)\n",
    "# y_test=  np.array(y_test).reshape(-1, 1)\n",
    "clf = DecisionTreeClassifier().fit(X_train, y_train)\n",
    "clf_pred = clf.predict(X_test)\n",
    "clf_accuracy = accuracy_score(y_test, clf_pred)\n",
    "clf_f1 = f1_score(y_test, clf_pred, average='weighted')\n",
    "print('Accuracy (HPP): ', \"%.2f\" % (clf_accuracy*100))\n",
    "print('F1 (HPP): ', \"%.2f\" % (clf_f1*100))\n",
    "\n",
    "\n",
    "#########\n",
    "\n"
   ]
  },
  {
   "cell_type": "code",
   "execution_count": null,
   "metadata": {},
   "outputs": [],
   "source": []
  },
  {
   "cell_type": "code",
   "execution_count": null,
   "metadata": {},
   "outputs": [
    {
     "name": "stdout",
     "output_type": "stream",
     "text": [
      "Accuracy (Polynomial Kernel):  12.46\n",
      "F1 (Polynomial Kernel):  2.76\n"
     ]
    }
   ],
   "source": [
    "X_train, X_test, y_train, y_test = model_selection.train_test_split(featuresToE, y, test_size=0.2, random_state=1)\n",
    "X_train, X_val, y_train, y_val = model_selection.train_test_split(X_train, y_train, test_size=0.25, random_state=1) # 0.25 x 0.8 = 0.2\n",
    "poly = svm.SVC(kernel='rbf', degree=3, C=5).fit(X_train, y_train)\n",
    "poly_pred = poly.predict(X_test)\n",
    "poly_accuracy = accuracy_score(y_test, poly_pred)\n",
    "poly_f1 = f1_score(y_test, poly_pred, average='weighted')\n",
    "print('Accuracy (Polynomial Kernel): ', \"%.2f\" % (poly_accuracy*100))\n",
    "print('F1 (Polynomial Kernel): ', \"%.2f\" % (poly_f1*100))\n"
   ]
  },
  {
   "cell_type": "code",
   "execution_count": null,
   "metadata": {},
   "outputs": [],
   "source": []
  },
  {
   "cell_type": "markdown",
   "metadata": {},
   "source": []
  },
  {
   "cell_type": "code",
   "execution_count": null,
   "metadata": {},
   "outputs": [],
   "source": [
    "# ################# demo test for HVSL extraction from dataset using Decision Trees\n",
    "# X, y = process_HVSL()\n",
    "# X_train, X_test, y_train, y_test = model_selection.train_test_split(X, y, test_size=0.2, random_state=1)\n",
    "# X_train, X_val, y_train, y_val = model_selection.train_test_split(X_train, y_train, test_size=0.25, random_state=1) # 0.25 x 0.8 = 0.2\n",
    "# clf = DecisionTreeClassifier().fit(X_train, y_train)\n",
    "# clf_pred = clf.predict(X_test)\n",
    "# clf_accuracy = accuracy_score(y_test, clf_pred)\n",
    "# clf_f1 = f1_score(y_test, clf_pred, average='weighted')\n",
    "# print('Accuracy (Polynomial Kernel): ', \"%.2f\" % (clf_accuracy*100))\n",
    "# print('F1 (Polynomial Kernel): ', \"%.2f\" % (clf_f1*100))\n",
    "\n"
   ]
  },
  {
   "cell_type": "code",
   "execution_count": null,
   "metadata": {},
   "outputs": [],
   "source": []
  }
 ],
 "metadata": {
  "kernelspec": {
   "display_name": "Python 3",
   "language": "python",
   "name": "python3"
  },
  "language_info": {
   "codemirror_mode": {
    "name": "ipython",
    "version": 3
   },
   "file_extension": ".py",
   "mimetype": "text/x-python",
   "name": "python",
   "nbconvert_exporter": "python",
   "pygments_lexer": "ipython3",
   "version": "3.8.12"
  }
 },
 "nbformat": 4,
 "nbformat_minor": 4
}
