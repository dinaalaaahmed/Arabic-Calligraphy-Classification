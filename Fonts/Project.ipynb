{
 "cells": [
  {
   "cell_type": "code",
   "execution_count": 2,
   "metadata": {},
   "outputs": [],
   "source": [
    "from skimage.util import img_as_ubyte\n",
    "from sklearn import svm\n",
    "import sklearn.model_selection as model_selection\n",
    "from sklearn.metrics import accuracy_score\n",
    "from sklearn.metrics import f1_score\n",
    "import cv2\n",
    "import os\n",
    "import numpy as np\n",
    "from skimage import io\n",
    "from skimage.filters import threshold_otsu\n",
    "from skimage.segmentation import  flood_fill\n",
    "from skimage.feature import peak_local_max\n",
    "from skimage.feature import hog\n",
    "from sklearn.ensemble import RandomForestClassifier\n",
    "from skimage.filters import sobel\n",
    "from skimage.morphology import skeletonize\n",
    "from skimage.measure import find_contours\n",
    "from skimage.draw import rectangle\n",
    "import math\n",
    "from matplotlib.pyplot import bar\n",
    "import matplotlib.pyplot as plt\n",
    "\n",
    "# Show the figures / plots inside the notebook\n",
    "def show_images(images,titles=None):\n",
    "    #This function is used to show image(s) with titles by sending an array of images and an array of associated titles.\n",
    "    # images[0] will be drawn with the title titles[0] if exists\n",
    "    # You aren't required to understand this function, use it as-is.\n",
    "    n_ims = len(images)\n",
    "    if titles is None: titles = ['(%d)' % i for i in range(1,n_ims + 1)]\n",
    "    fig = plt.figure()\n",
    "    n = 1\n",
    "    for image,title in zip(images,titles):\n",
    "        a = fig.add_subplot(1,n_ims,n)\n",
    "        if image.ndim == 2: \n",
    "            plt.gray()\n",
    "        plt.imshow(image)\n",
    "        a.set_title(title)\n",
    "        n += 1\n",
    "    fig.set_size_inches(np.array(fig.get_size_inches()) * n_ims)\n",
    "    plt.show() \n",
    "\n"
   ]
  },
  {
   "cell_type": "code",
   "execution_count": 3,
   "metadata": {},
   "outputs": [],
   "source": [
    "def auto_crop(binary_image: np.ndarray) -> np.ndarray:\n",
    "    all_points = cv2.findNonZero(binary_image)\n",
    "    x, y, w, h = cv2.boundingRect(all_points)\n",
    "    height, width = binary_image.shape\n",
    "    border = 0\n",
    "    left = max(0, x - border)\n",
    "    right = min(width, x + w + border)\n",
    "    top = max(0, y - border)\n",
    "    bottom = min(height, y + h + border)\n",
    "    return binary_image[top:bottom, left:right], top, bottom\n"
   ]
  },
  {
   "cell_type": "code",
   "execution_count": 20,
   "metadata": {},
   "outputs": [],
   "source": [
    "######## return hog features from input image #########\n",
    "def extract_hog_features(img):\n",
    "    img = cv2.resize(img, (110, 200))\n",
    "    fd = hog(img, orientations=8, pixels_per_cell=(16, 16), cells_per_block=(1, 1), visualize=False)\n",
    "    return fd"
   ]
  },
  {
   "cell_type": "code",
   "execution_count": 21,
   "metadata": {},
   "outputs": [],
   "source": [
    "####### return hog features from arr of images ###########\n",
    "def feature_extraction_hog(images):\n",
    "    feature = []\n",
    "    for img in images:\n",
    "        img = img.astype('uint8')\n",
    "        img = cv2.resize(img, (64, 64), cv2.INTER_AREA)\n",
    "        featuresHog = extract_hog_features(img.astype('uint8'))\n",
    "        feature.append(featuresHog)\n",
    "    return feature"
   ]
  },
  {
   "cell_type": "code",
   "execution_count": 22,
   "metadata": {},
   "outputs": [],
   "source": [
    "######## binarize image ##########\n",
    "def local_binarize(img, block_size = 35, offset_val = 10):\n",
    "    img=img_as_ubyte(img)\n",
    "    b_img= img < threshold_otsu(img)\n",
    "    return b_img    "
   ]
  },
  {
   "cell_type": "code",
   "execution_count": 23,
   "metadata": {},
   "outputs": [],
   "source": [
    "####### function that returns the row of the text basline #######\n",
    "def baseline(img):\n",
    "    horizontal_projection = np.sum(img, axis=1)\n",
    "    return np.argmax(horizontal_projection)"
   ]
  },
  {
   "cell_type": "code",
   "execution_count": 24,
   "metadata": {},
   "outputs": [],
   "source": [
    "###### function that takes the folder of the dataset then returns array of images and their labels ########\n",
    "def load_images_from_folder(folders):\n",
    "    images = []\n",
    "    y=[]\n",
    "    i = 1\n",
    "    for folder in folders:   \n",
    "        for filename in os.listdir(folder):\n",
    "            img = io.imread(os.path.join(folder,filename), 1)\n",
    "            if img is not None:\n",
    "                b_img=local_binarize(img)\n",
    "                baseline_i=baseline(b_img)\n",
    "                if np.sum(b_img[baseline_i])>=(b_img.shape[1]-2):\n",
    "                #     # print(\"width\",((3*b_img.shape[1])/4))\n",
    "                #     # print(\"sum: \",sum(b_img[0]))\n",
    "                    b_img= 1-b_img\n",
    "                # show_images([b_img],['image'])\n",
    "                    \n",
    "                \n",
    "                images.append(b_img)\n",
    "                \n",
    "                y.append(i)\n",
    "        i+=1\n",
    "    return images, y"
   ]
  },
  {
   "cell_type": "code",
   "execution_count": 25,
   "metadata": {},
   "outputs": [],
   "source": [
    "############### function that extracts hog features from dataset ###################\n",
    "def process_Hog():    \n",
    "    features = feature_extraction_hog(images)\n",
    "    return features, y"
   ]
  },
  {
   "cell_type": "code",
   "execution_count": 104,
   "metadata": {},
   "outputs": [],
   "source": [
    "import glob\n",
    "x=[]\n",
    "# x = glob.glob(\"F:\\\\Downloads\\\\\\ACdata_base\\\\1\\\\*\")\n",
    "# x.extend(glob.glob(\"F:\\\\Downloads\\\\\\ACdata_base\\\\2\\\\*\"))\n",
    "x.extend(glob.glob(\"F:\\\\Downloads\\\\\\ACdata_base\\\\3\\\\*\"))\n",
    "# x.extend(glob.glob(\"F:\\\\Downloads\\\\\\ACdata_base\\\\4\\\\*\"))\n",
    "x.extend(glob.glob(\"F:\\\\Downloads\\\\\\ACdata_base\\\\5\\\\*\"))\n",
    "# x.extend(glob.glob(\"F:\\\\Downloads\\\\\\ACdata_base\\\\6\\\\*\"))\n",
    "# x.extend(glob.glob(\"F:\\\\Downloads\\\\\\ACdata_base\\\\7\\\\*\"))\n",
    "x.extend(glob.glob(\"F:\\\\Downloads\\\\\\ACdata_base\\\\8\\\\*\"))\n",
    "x.extend(glob.glob(\"F:\\\\Downloads\\\\\\ACdata_base\\\\9\\\\*\"))\n",
    "images, y = load_images_from_folder([\"F:\\Downloads\\ACdata_base\\\\5\",\"F:\\Downloads\\ACdata_base\\\\8\",\"F:\\Downloads\\ACdata_base\\\\9\", \"F:\\Downloads\\ACdata_base\\\\3\"])\n",
    "# images, y = load_images_from_folder([\"F:\\\\Downloads\\\\\\ACdata_base\\\\1\",\"F:\\\\Downloads\\\\\\ACdata_base\\\\2\",\"F:\\\\Downloads\\\\\\ACdata_base\\\\3\",\"F:\\\\Downloads\\\\\\ACdata_base\\\\4\",\"F:\\\\Downloads\\\\\\ACdata_base\\\\5\",\"F:\\\\Downloads\\\\\\ACdata_base\\\\6\",\"F:\\\\Downloads\\\\\\ACdata_base\\\\7\",\"F:\\\\Downloads\\\\\\ACdata_base\\\\8\",\"F:\\\\Downloads\\\\\\ACdata_base\\\\9\"])\n",
    "# images, y = load_images_from_folder([\"F:\\\\Downloads\\\\\\ACdata_base\\\\1\"])\n"
   ]
  },
  {
   "cell_type": "code",
   "execution_count": 66,
   "metadata": {},
   "outputs": [],
   "source": [
    "######### Horizontal profile projection ###########\n",
    "def HPP(img):\n",
    "    horizontal_projection = np.sum(img, axis=1)\n",
    "    # horizontal_projection=peak_local_max(horizontal_projection, min_distance=3).size\n",
    "    return np.histogram(horizontal_projection, bins=10)[0]\n"
   ]
  },
  {
   "cell_type": "code",
   "execution_count": 67,
   "metadata": {},
   "outputs": [],
   "source": [
    "def count_contour(img,minArea):\n",
    "    find_contour_img=find_contours(img,0.5)\n",
    "    i=0\n",
    "    vertical_lines_height = []\n",
    "    max_height = 0.0001\n",
    "    variance=0\n",
    "    for box in find_contour_img:  \n",
    "        Xmin=min(box[:,1])\n",
    "        Xmax=max(box[:,1])\n",
    "        Ymin=min(box[:,0])\n",
    "        Ymax=max(box[:,0])\n",
    "        if (Ymax-Ymin)*(Xmax-Xmin)>minArea:\n",
    "            vertical_lines_height.append(Ymax-Ymin)\n",
    "            i+=1\n",
    "    if vertical_lines_height != []:\n",
    "        max_height=max(vertical_lines_height)\n",
    "        variance=np.var(vertical_lines_height)\n",
    "    return i, max_height, variance"
   ]
  },
  {
   "cell_type": "code",
   "execution_count": 68,
   "metadata": {},
   "outputs": [],
   "source": [
    "def count_contours_full(img,minArea):\n",
    "    # find contours for symbols\n",
    "    img=img.astype('uint8')\n",
    "    find_contour_img=find_contours(img,0.8)\n",
    "    # print([find_contour_img],[\"find contour\"])\n",
    "    final= np.zeros(img.shape)\n",
    "    # iterate on shapes\n",
    "    i=0\n",
    "    a=[]\n",
    "    for box in find_contour_img:  \n",
    "        Xmin=min(box[:,1])\n",
    "        Xmax=max(box[:,1])\n",
    "        Ymin=min(box[:,0])\n",
    "        Ymax=max(box[:,0])\n",
    "        if (Ymax-Ymin)*(Xmax-Xmin)>minArea:\n",
    "            rr, cc = rectangle(start = (math.ceil(0),math.ceil(Xmin)), end = (math.ceil(img.shape[0]),math.ceil(Xmax)), shape=img.shape)\n",
    "            final[rr,cc]=1\n",
    "            i+=1\n",
    "            a.append([[Ymax,Xmax],[Ymax,Xmin],[Ymin,Xmin],[Ymin,Xmax]])\n",
    "\n",
    "    return i,a"
   ]
  },
  {
   "cell_type": "code",
   "execution_count": 69,
   "metadata": {},
   "outputs": [],
   "source": [
    "def black_white_ratio(b_img):\n",
    "    white=np.sum(b_img==1)\n",
    "    black=np.sum(b_img==0)\n",
    "    # print(\"black:\",black)\n",
    "    temp=[]\n",
    "    if (black==0):\n",
    "        temp.append(0)\n",
    "        return temp\n",
    "    temp.append(white/black )\n",
    "    return  temp  \n"
   ]
  },
  {
   "cell_type": "code",
   "execution_count": 70,
   "metadata": {},
   "outputs": [],
   "source": [
    "def black_white_ratio_up(b_img):\n",
    "    baseline_i=baseline(b_img)\n",
    "    white=np.sum(b_img[0:baseline_i,:]==1)\n",
    "    black=np.sum(b_img[0:baseline_i,:]==0)\n",
    "    # print(\"blu: \",baseline_i)\n",
    "    # print(\"blackup:\",black)\n",
    "    # show_images([b_img],['hehe'])\n",
    "    temp=[]\n",
    "    if (black==0):\n",
    "        temp.append(0)\n",
    "        return temp\n",
    "    temp.append(white/black )\n",
    "    return  temp"
   ]
  },
  {
   "cell_type": "code",
   "execution_count": 71,
   "metadata": {},
   "outputs": [],
   "source": [
    "\n",
    "def black_white_ratio_down(b_img):\n",
    "    baseline_i=baseline(b_img)\n",
    "    white=np.sum(b_img[baseline_i:,:]==1)\n",
    "    black=np.sum(b_img[baseline_i:,:]==0)\n",
    "    # print(\"bld: \",baseline_i)\n",
    "    temp=[]\n",
    "    if (black==0):\n",
    "        temp.append(0)\n",
    "        return temp\n",
    "    temp.append(white/black )\n",
    "    return  temp "
   ]
  },
  {
   "cell_type": "code",
   "execution_count": 72,
   "metadata": {},
   "outputs": [],
   "source": [
    "def density_up(b_img,min_area):\n",
    "    baseline_i=baseline(b_img)\n",
    "    temp=[]\n",
    "    if baseline_i<=2:\n",
    "        temp.append(0)\n",
    "        # show_images([b_img],['mmm'])\n",
    "        return temp \n",
    "    # print(\"baseline\",baseline_i)\n",
    "    y,_=count_contours_full(b_img,min_area)\n",
    "    x,_=count_contours_full(b_img[0:baseline_i,:],min_area)\n",
    "    \n",
    "    temp.append(x/y)\n",
    "    return temp"
   ]
  },
  {
   "cell_type": "code",
   "execution_count": 83,
   "metadata": {},
   "outputs": [],
   "source": [
    "def density_down(b_img,min_area):\n",
    "    baseline_i=baseline(b_img)\n",
    "    temp=[]\n",
    "    if baseline_i>=b_img.shape[0]-5:\n",
    "        # show_images([b_img],['nn'])\n",
    "        temp.append(0)\n",
    "        return temp \n",
    "    y,_=count_contours_full(b_img,min_area)\n",
    "    x,_=count_contours_full(b_img[baseline_i:,:],min_area)\n",
    "    \n",
    "    temp.append(x/y)\n",
    "    return temp\n",
    "    "
   ]
  },
  {
   "cell_type": "code",
   "execution_count": 4,
   "metadata": {},
   "outputs": [],
   "source": [
    "def min_rect(img):\n",
    "    rotations=[]\n",
    "    contours = cv2.findContours(img.astype('uint8'), cv2.RETR_EXTERNAL, cv2.CHAIN_APPROX_SIMPLE)\n",
    "    contours = contours[0] \n",
    "    for j,contour in enumerate(contours):\n",
    "            box = cv2.minAreaRect(contour)\n",
    "            rotations.append(box[2])\n",
    "        \n",
    "    avg_angle=sum(rotations)/len(rotations) \n",
    "    return avg_angle"
   ]
  },
  {
   "cell_type": "code",
   "execution_count": 85,
   "metadata": {},
   "outputs": [],
   "source": [
    "######### takes binary image and returns skeleton, edge, text-only, diacretecs image\n",
    "def processing_images(binary_img):\n",
    "    bw_img=binary_img\n",
    "    baseline_i=baseline(bw_img)\n",
    "    seeds=[]\n",
    "    for j in range(bw_img.shape[1]-1):\n",
    "        if(bw_img[baseline_i][j]==False and bw_img[baseline_i][j+1]==True):\n",
    "            seeds.append(j+1)\n",
    "    diacritics = bw_img\n",
    "    for j in seeds:\n",
    "        diacritics = flood_fill(diacritics, (baseline_i, j), False)\n",
    "    text_only = bw_img != diacritics\n",
    "    sobel_img = sobel(bw_img)\n",
    "    skeletonized_img=skeletonize(bw_img)\n",
    "    \n",
    "    return sobel_img, skeletonized_img, diacritics, text_only"
   ]
  },
  {
   "cell_type": "code",
   "execution_count": 86,
   "metadata": {},
   "outputs": [],
   "source": [
    "####### function that returns num of horizontal and vertical lines\n",
    "def HVSL(bw_image):\n",
    "    # hough line to detect lines in the photo\n",
    "    tested_angles = np.linspace(-np.pi / 2, np.pi / 2, 2)\n",
    "    h, theta, d = hough_line(bw_image, theta=tested_angles)\n",
    "    origin = np.array((0, bw_image.shape[1]))\n",
    "    # hough peaks to get those lines\n",
    "    angles=[]\n",
    "    for _, angle, dist in zip(*hough_line_peaks(h, theta, d)):\n",
    "        y0, y1 = (dist - origin * np.cos(angle)) / np.sin(angle)\n",
    "        angles.append(angle)\n",
    "    angles = [angle * 180 / np.pi for angle in angles]\n",
    "    return angles.count(90.0), angles.count(180.0)\n",
    "\n"
   ]
  },
  {
   "cell_type": "code",
   "execution_count": 87,
   "metadata": {},
   "outputs": [],
   "source": [
    "################### 1st feature ##################\n",
    "def HVSL_features(edge):\n",
    "    vertical_lines, horizontal_lines = HVSL(edge)\n",
    "    if(vertical_lines+horizontal_lines) == 0:\n",
    "        horizontal_lines=.0001\n",
    "    ratio_pixels_HVL = np.count_nonzero(edge)/(vertical_lines + horizontal_lines)\n",
    "    return vertical_lines, horizontal_lines, ratio_pixels_HVL\n",
    "    "
   ]
  },
  {
   "cell_type": "code",
   "execution_count": 88,
   "metadata": {},
   "outputs": [],
   "source": [
    "def text_HVSL_feature(edge):\n",
    "    edge = img_as_ubyte(edge)\n",
    "    fld = cv2.ximgproc.createFastLineDetector()\n",
    "    lines = fld.detect(edge)\n",
    "    \n",
    "    vertical_lines = (lines[:,0,0] == lines[:,0,2]).sum()\n",
    "    horizontal_lines = (lines[:,0,1] == lines[:,0,3]).sum()\n",
    "    if(vertical_lines+horizontal_lines) == 0:\n",
    "        horizontal_lines=.0001\n",
    "    freq_appearance_ratio = (vertical_lines+horizontal_lines)/len(lines)\n",
    "    ratio_pixels_HVL = np.count_nonzero(edge)/freq_appearance_ratio\n",
    "    return freq_appearance_ratio, ratio_pixels_HVL\n"
   ]
  },
  {
   "cell_type": "code",
   "execution_count": 89,
   "metadata": {},
   "outputs": [],
   "source": [
    "def text_height_feature(skeleton):\n",
    "    skeleton = img_as_ubyte(skeleton)\n",
    "    kernel_vertical_line=np.ones((3,1))\n",
    "    line = cv2.morphologyEx(skeleton, cv2.MORPH_OPEN, kernel_vertical_line)\n",
    "    line=line/255\n",
    "    num_of_verticle_lines, max_vertical_line_height, variance = count_contour(line,3*1)\n",
    "\n",
    "    start_height=0\n",
    "    end_height=0\n",
    "    for i in range(line.shape[0]):\n",
    "        if(np.any((line[i] == 1))):\n",
    "            start_height = i\n",
    "            break\n",
    "    for i in range(line.shape[0]-1, 0, -1):\n",
    "        if(np.any((line[i] == 1))):\n",
    "            end_height = i\n",
    "            break\n",
    "    text_height = abs(start_height-end_height)\n",
    "    return text_height, num_of_verticle_lines, max_vertical_line_height, text_height/max_vertical_line_height , variance\n",
    "\n"
   ]
  },
  {
   "cell_type": "code",
   "execution_count": 90,
   "metadata": {},
   "outputs": [],
   "source": [
    "def text_thickness(edge_img, skeleton_img):\n",
    "    row = min (skeleton_img.shape[0], edge_img.shape[0])\n",
    "    col = min (skeleton_img.shape[1], edge_img.shape[1])\n",
    "    dist = []\n",
    "    left = 0\n",
    "    right = 0\n",
    "    l = False\n",
    "    r = False\n",
    "    for i in range (row-1):\n",
    "        for j in range (col-1):\n",
    "            l = False\n",
    "            r = False\n",
    "            if skeleton_img[i][j] == 1:\n",
    "                max1 = max(j-10,0)\n",
    "                min2 = min(j+10,col)\n",
    "                for k in range(j,max1,-1):\n",
    "                    if edge_img[i][k] > 0:\n",
    "                        left = k\n",
    "                        l = True\n",
    "                        break\n",
    "                for g in range(j,min2):\n",
    "                    if edge_img[i][g] > 0:\n",
    "                        right = g\n",
    "                        r = True\n",
    "                        break\n",
    "                if l == False:\n",
    "                    left = j\n",
    "                if r == False:\n",
    "                    right = j\n",
    "                dist.append(abs(right-left))\n",
    "    h = np.histogram(dist)\n",
    "    return h[0]\n"
   ]
  },
  {
   "cell_type": "code",
   "execution_count": 113,
   "metadata": {},
   "outputs": [],
   "source": [
    "def process_LVL_HVSL():\n",
    "    featuresLVL =[]\n",
    "    featuresHVSL=[]\n",
    "    HPP_features=[]\n",
    "    featuresToE=[]\n",
    "    featuresToS=[]\n",
    "    featuresThickness=[]\n",
    "    HOG=[]\n",
    "    black_white=[]\n",
    "    black_white_up=[]\n",
    "    black_white_down=[]\n",
    "    d_up=[]\n",
    "    d_down=[]\n",
    "    m_rect=[]\n",
    "    for index,path in enumerate(x):\n",
    "        img = io.imread(path, 1)\n",
    "        HOG.append(extract_hog_features(img))\n",
    "        bw_img=local_binarize(img)\n",
    "        # baseline_i=baseline(bw_img)\n",
    "        # if np.sum(bw_img[baseline_i])>=(bw_img.shape[1]-2):\n",
    "        #     bw_img= 1-bw_img\n",
    "        edge, skeleton, diacritics, text_only = processing_images(bw_img)\n",
    "        show_images([bw_img],[\"edge\"])\n",
    "        featuresLVL.append(text_height_feature(skeleton))\n",
    "        #featuresHVSL.append(text_HVSL_feature(edge))\n",
    "        HPP_features.append(HPP(bw_img))\n",
    "        featuresThickness.append(text_thickness(edge, skeleton))\n",
    "        skeleton = img_as_ubyte(skeleton)\n",
    "        edge = img_as_ubyte(edge)\n",
    "        featuresToS.append(extract_hog_features(skeleton))\n",
    "        featuresToE.append(extract_hog_features(edge))\n",
    "        black_white.append(black_white_ratio(images[index]))\n",
    "        black_white_up.append(black_white_ratio_up(images[index]))\n",
    "        black_white_down.append(black_white_ratio_down(images[index]))\n",
    "        d_up.append(density_up(images[index],3))\n",
    "        d_down.append(density_down(images[index],3))\n",
    "        m_rect.append([min_rect(images[index])])\n",
    "    bw=np.histogram(black_white)\n",
    "    bw_up=np.histogram(black_white_up)\n",
    "    bw_down=np.histogram(black_white_down)\n",
    "    # return \n",
    "    return featuresLVL, HPP_features, featuresToS, featuresToE,featuresThickness, HOG,black_white,black_white_up,black_white_down,d_up,d_down,m_rect,y\n"
   ]
  },
  {
   "cell_type": "code",
   "execution_count": 114,
   "metadata": {},
   "outputs": [
    {
     "data": {
      "image/png": "[encoded data removed]",
      "text/plain": [
       "<Figure size 432x288 with 1 Axes>"
      ]
     },
     "metadata": {
      "needs_background": "light"
     },
     "output_type": "display_data"
    },
    {
     "ename": "TypeError",
     "evalue": "'int' object is not callable",
     "output_type": "error",
     "traceback": [
      "\u001b[1;31m---------------------------------------------------------------------------\u001b[0m",
      "\u001b[1;31mTypeError\u001b[0m                                 Traceback (most recent call last)",
      "\u001b[1;32m~\\AppData\\Local\\Temp/ipykernel_41144/4087825885.py\u001b[0m in \u001b[0;36m<module>\u001b[1;34m\u001b[0m\n\u001b[0;32m      1\u001b[0m \u001b[1;31m################ demo test for LVL extraction from dataset using Decision Trees\u001b[0m\u001b[1;33m\u001b[0m\u001b[1;33m\u001b[0m\u001b[0m\n\u001b[1;32m----> 2\u001b[1;33m \u001b[0mfeaturesLVL\u001b[0m\u001b[1;33m,\u001b[0m \u001b[0mHPP_features\u001b[0m\u001b[1;33m,\u001b[0m \u001b[0mfeaturesToS\u001b[0m\u001b[1;33m,\u001b[0m \u001b[0mfeaturesToE\u001b[0m\u001b[1;33m,\u001b[0m\u001b[0mfeaturesThickness\u001b[0m\u001b[1;33m,\u001b[0m \u001b[0mHOG\u001b[0m\u001b[1;33m,\u001b[0m\u001b[0mblack_white\u001b[0m\u001b[1;33m,\u001b[0m\u001b[0mblack_white_up\u001b[0m\u001b[1;33m,\u001b[0m\u001b[0mblack_white_down\u001b[0m\u001b[1;33m,\u001b[0m\u001b[0md_up\u001b[0m\u001b[1;33m,\u001b[0m\u001b[0md_down\u001b[0m\u001b[1;33m,\u001b[0m\u001b[0mm_rect\u001b[0m\u001b[1;33m,\u001b[0m\u001b[0my\u001b[0m \u001b[1;33m=\u001b[0m \u001b[0mprocess_LVL_HVSL\u001b[0m\u001b[1;33m(\u001b[0m\u001b[1;33m)\u001b[0m\u001b[1;33m\u001b[0m\u001b[1;33m\u001b[0m\u001b[0m\n\u001b[0m\u001b[0;32m      3\u001b[0m \u001b[1;31m################ demo test for hog extraction from dataset using support vector machine\u001b[0m\u001b[1;33m\u001b[0m\u001b[1;33m\u001b[0m\u001b[0m\n\u001b[0;32m      4\u001b[0m \u001b[0mX_train\u001b[0m\u001b[1;33m,\u001b[0m \u001b[0mX_test\u001b[0m\u001b[1;33m,\u001b[0m \u001b[0my_train\u001b[0m\u001b[1;33m,\u001b[0m \u001b[0my_test\u001b[0m \u001b[1;33m=\u001b[0m \u001b[0mmodel_selection\u001b[0m\u001b[1;33m.\u001b[0m\u001b[0mtrain_test_split\u001b[0m\u001b[1;33m(\u001b[0m\u001b[0mHPP_features\u001b[0m\u001b[1;33m,\u001b[0m \u001b[0my\u001b[0m\u001b[1;33m,\u001b[0m \u001b[0mtest_size\u001b[0m\u001b[1;33m=\u001b[0m\u001b[1;36m0.2\u001b[0m\u001b[1;33m,\u001b[0m \u001b[0mrandom_state\u001b[0m\u001b[1;33m=\u001b[0m\u001b[1;36m1\u001b[0m\u001b[1;33m)\u001b[0m\u001b[1;33m\u001b[0m\u001b[1;33m\u001b[0m\u001b[0m\n\u001b[0;32m      5\u001b[0m \u001b[0mX_train\u001b[0m\u001b[1;33m,\u001b[0m \u001b[0mX_val\u001b[0m\u001b[1;33m,\u001b[0m \u001b[0my_train\u001b[0m\u001b[1;33m,\u001b[0m \u001b[0my_val\u001b[0m \u001b[1;33m=\u001b[0m \u001b[0mmodel_selection\u001b[0m\u001b[1;33m.\u001b[0m\u001b[0mtrain_test_split\u001b[0m\u001b[1;33m(\u001b[0m\u001b[0mX_train\u001b[0m\u001b[1;33m,\u001b[0m \u001b[0my_train\u001b[0m\u001b[1;33m,\u001b[0m \u001b[0mtest_size\u001b[0m\u001b[1;33m=\u001b[0m\u001b[1;36m0.25\u001b[0m\u001b[1;33m,\u001b[0m \u001b[0mrandom_state\u001b[0m\u001b[1;33m=\u001b[0m\u001b[1;36m1\u001b[0m\u001b[1;33m)\u001b[0m \u001b[1;31m# 0.25 x 0.8 = 0.2\u001b[0m\u001b[1;33m\u001b[0m\u001b[1;33m\u001b[0m\u001b[0m\n",
      "\u001b[1;32m~\\AppData\\Local\\Temp/ipykernel_41144/2187257196.py\u001b[0m in \u001b[0;36mprocess_LVL_HVSL\u001b[1;34m()\u001b[0m\n\u001b[0;32m     22\u001b[0m         \u001b[0medge\u001b[0m\u001b[1;33m,\u001b[0m \u001b[0mskeleton\u001b[0m\u001b[1;33m,\u001b[0m \u001b[0mdiacritics\u001b[0m\u001b[1;33m,\u001b[0m \u001b[0mtext_only\u001b[0m \u001b[1;33m=\u001b[0m \u001b[0mprocessing_images\u001b[0m\u001b[1;33m(\u001b[0m\u001b[0mbw_img\u001b[0m\u001b[1;33m)\u001b[0m\u001b[1;33m\u001b[0m\u001b[1;33m\u001b[0m\u001b[0m\n\u001b[0;32m     23\u001b[0m         \u001b[0mshow_images\u001b[0m\u001b[1;33m(\u001b[0m\u001b[1;33m[\u001b[0m\u001b[0mbw_img\u001b[0m\u001b[1;33m]\u001b[0m\u001b[1;33m,\u001b[0m\u001b[1;33m[\u001b[0m\u001b[1;34m\"edge\"\u001b[0m\u001b[1;33m]\u001b[0m\u001b[1;33m)\u001b[0m\u001b[1;33m\u001b[0m\u001b[1;33m\u001b[0m\u001b[0m\n\u001b[1;32m---> 24\u001b[1;33m         \u001b[0mfeaturesLVL\u001b[0m\u001b[1;33m.\u001b[0m\u001b[0mappend\u001b[0m\u001b[1;33m(\u001b[0m\u001b[0mtext_height_feature\u001b[0m\u001b[1;33m(\u001b[0m\u001b[0mskeleton\u001b[0m\u001b[1;33m)\u001b[0m\u001b[1;33m)\u001b[0m\u001b[1;33m\u001b[0m\u001b[1;33m\u001b[0m\u001b[0m\n\u001b[0m\u001b[0;32m     25\u001b[0m         \u001b[1;31m#featuresHVSL.append(text_HVSL_feature(edge))\u001b[0m\u001b[1;33m\u001b[0m\u001b[1;33m\u001b[0m\u001b[0m\n\u001b[0;32m     26\u001b[0m         \u001b[0mHPP_features\u001b[0m\u001b[1;33m.\u001b[0m\u001b[0mappend\u001b[0m\u001b[1;33m(\u001b[0m\u001b[0mHPP\u001b[0m\u001b[1;33m(\u001b[0m\u001b[0mbw_img\u001b[0m\u001b[1;33m)\u001b[0m\u001b[1;33m)\u001b[0m\u001b[1;33m\u001b[0m\u001b[1;33m\u001b[0m\u001b[0m\n",
      "\u001b[1;32m~\\AppData\\Local\\Temp/ipykernel_41144/1804389564.py\u001b[0m in \u001b[0;36mtext_height_feature\u001b[1;34m(skeleton)\u001b[0m\n\u001b[0;32m      4\u001b[0m     \u001b[0mline\u001b[0m \u001b[1;33m=\u001b[0m \u001b[0mcv2\u001b[0m\u001b[1;33m.\u001b[0m\u001b[0mmorphologyEx\u001b[0m\u001b[1;33m(\u001b[0m\u001b[0mskeleton\u001b[0m\u001b[1;33m,\u001b[0m \u001b[0mcv2\u001b[0m\u001b[1;33m.\u001b[0m\u001b[0mMORPH_OPEN\u001b[0m\u001b[1;33m,\u001b[0m \u001b[0mkernel_vertical_line\u001b[0m\u001b[1;33m)\u001b[0m\u001b[1;33m\u001b[0m\u001b[1;33m\u001b[0m\u001b[0m\n\u001b[0;32m      5\u001b[0m     \u001b[0mline\u001b[0m\u001b[1;33m=\u001b[0m\u001b[0mline\u001b[0m\u001b[1;33m/\u001b[0m\u001b[1;36m255\u001b[0m\u001b[1;33m\u001b[0m\u001b[1;33m\u001b[0m\u001b[0m\n\u001b[1;32m----> 6\u001b[1;33m     \u001b[0mnum_of_verticle_lines\u001b[0m\u001b[1;33m,\u001b[0m \u001b[0mmax_vertical_line_height\u001b[0m\u001b[1;33m,\u001b[0m \u001b[0mvariance\u001b[0m \u001b[1;33m=\u001b[0m \u001b[0mcount_contour\u001b[0m\u001b[1;33m(\u001b[0m\u001b[0mline\u001b[0m\u001b[1;33m,\u001b[0m\u001b[1;36m3\u001b[0m\u001b[1;33m*\u001b[0m\u001b[1;36m1\u001b[0m\u001b[1;33m)\u001b[0m\u001b[1;33m\u001b[0m\u001b[1;33m\u001b[0m\u001b[0m\n\u001b[0m\u001b[0;32m      7\u001b[0m \u001b[1;33m\u001b[0m\u001b[0m\n\u001b[0;32m      8\u001b[0m     \u001b[0mstart_height\u001b[0m\u001b[1;33m=\u001b[0m\u001b[1;36m0\u001b[0m\u001b[1;33m\u001b[0m\u001b[1;33m\u001b[0m\u001b[0m\n",
      "\u001b[1;32m~\\AppData\\Local\\Temp/ipykernel_41144/3710615220.py\u001b[0m in \u001b[0;36mcount_contour\u001b[1;34m(img, minArea)\u001b[0m\n\u001b[0;32m      6\u001b[0m     \u001b[0mvariance\u001b[0m\u001b[1;33m=\u001b[0m\u001b[1;36m0\u001b[0m\u001b[1;33m\u001b[0m\u001b[1;33m\u001b[0m\u001b[0m\n\u001b[0;32m      7\u001b[0m     \u001b[1;32mfor\u001b[0m \u001b[0mbox\u001b[0m \u001b[1;32min\u001b[0m \u001b[0mfind_contour_img\u001b[0m\u001b[1;33m:\u001b[0m\u001b[1;33m\u001b[0m\u001b[1;33m\u001b[0m\u001b[0m\n\u001b[1;32m----> 8\u001b[1;33m         \u001b[0mXmin\u001b[0m\u001b[1;33m=\u001b[0m\u001b[0mmin\u001b[0m\u001b[1;33m(\u001b[0m\u001b[0mbox\u001b[0m\u001b[1;33m[\u001b[0m\u001b[1;33m:\u001b[0m\u001b[1;33m,\u001b[0m\u001b[1;36m1\u001b[0m\u001b[1;33m]\u001b[0m\u001b[1;33m)\u001b[0m\u001b[1;33m\u001b[0m\u001b[1;33m\u001b[0m\u001b[0m\n\u001b[0m\u001b[0;32m      9\u001b[0m         \u001b[0mXmax\u001b[0m\u001b[1;33m=\u001b[0m\u001b[0mmax\u001b[0m\u001b[1;33m(\u001b[0m\u001b[0mbox\u001b[0m\u001b[1;33m[\u001b[0m\u001b[1;33m:\u001b[0m\u001b[1;33m,\u001b[0m\u001b[1;36m1\u001b[0m\u001b[1;33m]\u001b[0m\u001b[1;33m)\u001b[0m\u001b[1;33m\u001b[0m\u001b[1;33m\u001b[0m\u001b[0m\n\u001b[0;32m     10\u001b[0m         \u001b[0mYmin\u001b[0m\u001b[1;33m=\u001b[0m\u001b[0mmin\u001b[0m\u001b[1;33m(\u001b[0m\u001b[0mbox\u001b[0m\u001b[1;33m[\u001b[0m\u001b[1;33m:\u001b[0m\u001b[1;33m,\u001b[0m\u001b[1;36m0\u001b[0m\u001b[1;33m]\u001b[0m\u001b[1;33m)\u001b[0m\u001b[1;33m\u001b[0m\u001b[1;33m\u001b[0m\u001b[0m\n",
      "\u001b[1;31mTypeError\u001b[0m: 'int' object is not callable"
     ]
    }
   ],
   "source": [
    "################ demo test for LVL extraction from dataset using Decision Trees\n",
    "featuresLVL, HPP_features, featuresToS, featuresToE,featuresThickness, HOG,black_white,black_white_up,black_white_down,d_up,d_down,m_rect,y = process_LVL_HVSL()\n",
    "################ demo test for hog extraction from dataset using support vector machine\n",
    "X_train, X_test, y_train, y_test = model_selection.train_test_split(HPP_features, y, test_size=0.2, random_state=1)\n",
    "X_train, X_val, y_train, y_val = model_selection.train_test_split(X_train, y_train, test_size=0.25, random_state=1) # 0.25 x 0.8 = 0.2\n",
    "poly = svm.SVC(kernel='rbf', degree=3, C=5).fit(X_train, y_train)\n",
    "poly_pred = poly.predict(X_test)\n",
    "poly_accuracy = accuracy_score(y_test, poly_pred)\n",
    "poly_f1 = f1_score(y_test, poly_pred, average='weighted')\n",
    "print('Accuracy (Polynomial Kernel): ', \"%.2f\" % (poly_accuracy*100))\n",
    "print('F1 (Polynomial Kernel): ', \"%.2f\" % (poly_f1*100))\n",
    "\n",
    "\n"
   ]
  },
  {
   "cell_type": "code",
   "execution_count": null,
   "metadata": {},
   "outputs": [
    {
     "name": "stdout",
     "output_type": "stream",
     "text": [
      "F1 (Polynomial Kernel):  100.00\n"
     ]
    }
   ],
   "source": [
    "X = np.hstack((featuresLVL, HPP_features, featuresToE, featuresThickness,HOG,black_white,black_white_up,black_white_up,d_up,m_rect))\n",
    "\n",
    "X_train, X_test, y_train, y_test = model_selection.train_test_split(X, y, test_size=0.2, random_state=1)\n",
    "X_train, X_val, y_train, y_val = model_selection.train_test_split(X_train, y_train, test_size=0.25, random_state=1) # 0.25 x 0.8 = 0.2\n",
    "poly =  RandomForestClassifier(max_depth=20, random_state=0).fit(X_train, y_train)\n",
    "poly_pred = poly.predict(X_test)\n",
    "poly_f1 = f1_score(y_test, poly_pred, average='weighted')\n",
    "print('F1 (Polynomial Kernel): ', \"%.2f\" % (poly_f1*100))\n"
   ]
  },
  {
   "cell_type": "code",
   "execution_count": null,
   "metadata": {},
   "outputs": [
    {
     "name": "stdout",
     "output_type": "stream",
     "text": [
      "F1 (Polynomial Kernel):  100.00\n"
     ]
    }
   ],
   "source": [
    "# ARR=[XLVL, XHVSL, HPP_features, featuresToE, featuresThickness,HOG,bw,bw_up,d_up,m_rect]\n",
    "# ARR2=[XLVL, XHVSL, HPP_features, featuresToE, featuresThickness,HOG,bw,bw_up,d_up,m_rect]\n",
    "\n",
    "    \n",
    "X_train, X_test, y_train, y_test = model_selection.train_test_split(X, y, test_size=0.2, random_state=1)\n",
    "X_train, X_val, y_train, y_val = model_selection.train_test_split(X_train, y_train, test_size=0.25, random_state=1) # 0.25 x 0.8 = 0.2\n",
    "poly =  RandomForestClassifier(max_depth=20, random_state=0).fit(X_train, y_train)\n",
    "poly_pred = poly.predict(X_test)\n",
    "poly_f1 = f1_score(y_test, poly_pred, average='weighted')\n",
    "print('F1 (Polynomial Kernel): ', \"%.2f\" % (poly_f1*100))"
   ]
  },
  {
   "cell_type": "code",
   "execution_count": null,
   "metadata": {},
   "outputs": [
    {
     "name": "stdout",
     "output_type": "stream",
     "text": [
      "Accuracy (Polynomial Kernel):  97.39\n",
      "F1 (Polynomial Kernel):  97.39\n"
     ]
    }
   ],
   "source": [
    "X_train, X_test, y_train, y_test = model_selection.train_test_split(featuresToE, y, test_size=0.2, random_state=1)\n",
    "X_train, X_val, y_train, y_val = model_selection.train_test_split(X_train, y_train, test_size=0.25, random_state=1) # 0.25 x 0.8 = 0.2\n",
    "poly = svm.SVC(kernel='rbf', degree=3, C=5).fit(X_train, y_train)\n",
    "poly_pred = poly.predict(X_test)\n",
    "poly_accuracy = accuracy_score(y_test, poly_pred)\n",
    "poly_f1 = f1_score(y_test, poly_pred, average='weighted')\n",
    "print('Accuracy (Polynomial Kernel): ', \"%.2f\" % (poly_accuracy*100))\n",
    "print('F1 (Polynomial Kernel): ', \"%.2f\" % (poly_f1*100))\n"
   ]
  },
  {
   "cell_type": "code",
   "execution_count": null,
   "metadata": {},
   "outputs": [
    {
     "ename": "NameError",
     "evalue": "name 'ARR2' is not defined",
     "output_type": "error",
     "traceback": [
      "\u001b[1;31m---------------------------------------------------------------------------\u001b[0m",
      "\u001b[1;31mNameError\u001b[0m                                 Traceback (most recent call last)",
      "\u001b[1;32m~\\AppData\\Local\\Temp/ipykernel_41144/2719625914.py\u001b[0m in \u001b[0;36m<module>\u001b[1;34m\u001b[0m\n\u001b[0;32m      2\u001b[0m \u001b[0mfeatures\u001b[0m\u001b[1;33m=\u001b[0m\u001b[1;33m[\u001b[0m\u001b[1;33m]\u001b[0m\u001b[1;33m\u001b[0m\u001b[1;33m\u001b[0m\u001b[0m\n\u001b[0;32m      3\u001b[0m \u001b[0mindex\u001b[0m\u001b[1;33m=\u001b[0m\u001b[1;33m[\u001b[0m\u001b[1;33m]\u001b[0m\u001b[1;33m\u001b[0m\u001b[1;33m\u001b[0m\u001b[0m\n\u001b[1;32m----> 4\u001b[1;33m \u001b[1;32mfor\u001b[0m \u001b[0mi\u001b[0m \u001b[1;32min\u001b[0m \u001b[0mrange\u001b[0m\u001b[1;33m(\u001b[0m\u001b[0mlen\u001b[0m\u001b[1;33m(\u001b[0m\u001b[0mARR2\u001b[0m\u001b[1;33m)\u001b[0m\u001b[1;33m-\u001b[0m\u001b[1;36m1\u001b[0m\u001b[1;33m)\u001b[0m\u001b[1;33m:\u001b[0m\u001b[1;33m\u001b[0m\u001b[1;33m\u001b[0m\u001b[0m\n\u001b[0m\u001b[0;32m      5\u001b[0m     \u001b[0mARR\u001b[0m\u001b[1;33m=\u001b[0m\u001b[0mARR2\u001b[0m\u001b[1;33m.\u001b[0m\u001b[0mcopy\u001b[0m\u001b[1;33m(\u001b[0m\u001b[1;33m)\u001b[0m\u001b[1;33m\u001b[0m\u001b[1;33m\u001b[0m\u001b[0m\n\u001b[0;32m      6\u001b[0m     \u001b[1;32mdel\u001b[0m \u001b[0mARR\u001b[0m\u001b[1;33m[\u001b[0m\u001b[0mi\u001b[0m\u001b[1;33m]\u001b[0m\u001b[1;33m\u001b[0m\u001b[1;33m\u001b[0m\u001b[0m\n",
      "\u001b[1;31mNameError\u001b[0m: name 'ARR2' is not defined"
     ]
    }
   ],
   "source": [
    "min = 0\n",
    "features=[]\n",
    "index=[]\n",
    "for i in range(len(ARR2)-1):\n",
    "    ARR=ARR2.copy()\n",
    "    del ARR[i]\n",
    "    a_new= ARR\n",
    "    X = np.hstack(tuple(a_new))\n",
    "    X_train, X_test, y_train, y_test = model_selection.train_test_split(X, y, test_size=0.2, random_state=1)\n",
    "    X_train, X_val, y_train, y_val = model_selection.train_test_split(X_train, y_train, test_size=0.25, random_state=1) # 0.25 x 0.8 = 0.2\n",
    "    poly =  RandomForestClassifier(max_depth=20, random_state=0).fit(X_train, y_train)\n",
    "    poly_pred = poly.predict(X_test)\n",
    "    poly_f1 = f1_score(y_test, poly_pred, average='weighted')\n",
    "    print('F1 (Polynomial Kernel): ', \"%.2f\" % (poly_f1*100), i)\n",
    "\n",
    "    if(poly_f1> min):\n",
    "        min = poly_f1\n",
    "        features = X\n",
    "        index = [i]\n",
    "        print(i)\n",
    "print(index, min, features)"
   ]
  },
  {
   "cell_type": "markdown",
   "metadata": {},
   "source": []
  },
  {
   "cell_type": "code",
   "execution_count": null,
   "metadata": {},
   "outputs": [],
   "source": [
    "# ################# demo test for HVSL extraction from dataset using Decision Trees\n",
    "# X, y = process_HVSL()\n",
    "# X_train, X_test, y_train, y_test = model_selection.train_test_split(X, y, test_size=0.2, random_state=1)\n",
    "# X_train, X_val, y_train, y_val = model_selection.train_test_split(X_train, y_train, test_size=0.25, random_state=1) # 0.25 x 0.8 = 0.2\n",
    "# clf = DecisionTreeClassifier().fit(X_train, y_train)\n",
    "# clf_pred = clf.predict(X_test)\n",
    "# clf_accuracy = accuracy_score(y_test, clf_pred)\n",
    "# clf_f1 = f1_score(y_test, clf_pred, average='weighted')\n",
    "# print('Accuracy (Polynomial Kernel): ', \"%.2f\" % (clf_accuracy*100))\n",
    "# print('F1 (Polynomial Kernel): ', \"%.2f\" % (clf_f1*100))\n",
    "\n"
   ]
  },
  {
   "cell_type": "code",
   "execution_count": null,
   "metadata": {},
   "outputs": [],
   "source": []
  },
  {
   "cell_type": "code",
   "execution_count": null,
   "metadata": {},
   "outputs": [
    {
     "ename": "TypeError",
     "evalue": "'int' object is not callable",
     "output_type": "error",
     "traceback": [
      "\u001b[1;31m---------------------------------------------------------------------------\u001b[0m",
      "\u001b[1;31mTypeError\u001b[0m                                 Traceback (most recent call last)",
      "\u001b[1;32m~\\AppData\\Local\\Temp/ipykernel_41144/866967214.py\u001b[0m in \u001b[0;36m<module>\u001b[1;34m\u001b[0m\n\u001b[0;32m     95\u001b[0m             \u001b[0mdraw\u001b[0m \u001b[1;33m=\u001b[0m \u001b[0mPIL\u001b[0m\u001b[1;33m.\u001b[0m\u001b[0mImageDraw\u001b[0m\u001b[1;33m.\u001b[0m\u001b[0mDraw\u001b[0m\u001b[1;33m(\u001b[0m\u001b[0mimg\u001b[0m\u001b[1;33m)\u001b[0m\u001b[1;33m\u001b[0m\u001b[1;33m\u001b[0m\u001b[0m\n\u001b[0;32m     96\u001b[0m \u001b[1;33m\u001b[0m\u001b[0m\n\u001b[1;32m---> 97\u001b[1;33m             \u001b[0mimg\u001b[0m \u001b[1;33m=\u001b[0m \u001b[0mpreprocess\u001b[0m\u001b[1;33m(\u001b[0m\u001b[0mnp\u001b[0m\u001b[1;33m.\u001b[0m\u001b[0marray\u001b[0m\u001b[1;33m(\u001b[0m\u001b[0mimg\u001b[0m\u001b[1;33m)\u001b[0m\u001b[1;33m)\u001b[0m\u001b[1;33m\u001b[0m\u001b[1;33m\u001b[0m\u001b[0m\n\u001b[0m\u001b[0;32m     98\u001b[0m             \u001b[0mcv2\u001b[0m\u001b[1;33m.\u001b[0m\u001b[0mimwrite\u001b[0m\u001b[1;33m(\u001b[0m\u001b[1;34m\"parsi/image\"\u001b[0m\u001b[1;33m+\u001b[0m\u001b[0mstr\u001b[0m\u001b[1;33m(\u001b[0m\u001b[0mi\u001b[0m\u001b[1;33m)\u001b[0m\u001b[1;33m+\u001b[0m\u001b[1;34m\".jpg\"\u001b[0m\u001b[1;33m,\u001b[0m \u001b[0mimg\u001b[0m\u001b[1;33m)\u001b[0m\u001b[1;33m\u001b[0m\u001b[1;33m\u001b[0m\u001b[0m\n\u001b[0;32m     99\u001b[0m             \u001b[0mi\u001b[0m\u001b[1;33m+=\u001b[0m\u001b[1;36m1\u001b[0m\u001b[1;33m\u001b[0m\u001b[1;33m\u001b[0m\u001b[0m\n",
      "\u001b[1;32m~\\AppData\\Local\\Temp/ipykernel_41144/866967214.py\u001b[0m in \u001b[0;36mpreprocess\u001b[1;34m(img)\u001b[0m\n\u001b[0;32m     66\u001b[0m \u001b[1;32mdef\u001b[0m \u001b[0mpreprocess\u001b[0m\u001b[1;33m(\u001b[0m\u001b[0mimg\u001b[0m\u001b[1;33m:\u001b[0m \u001b[0mnp\u001b[0m\u001b[1;33m.\u001b[0m\u001b[0mndarray\u001b[0m\u001b[1;33m)\u001b[0m \u001b[1;33m->\u001b[0m \u001b[0mnp\u001b[0m\u001b[1;33m.\u001b[0m\u001b[0mndarray\u001b[0m\u001b[1;33m:\u001b[0m\u001b[1;33m\u001b[0m\u001b[1;33m\u001b[0m\u001b[0m\n\u001b[0;32m     67\u001b[0m     \u001b[0mimg\u001b[0m \u001b[1;33m=\u001b[0m \u001b[0mbinarize\u001b[0m\u001b[1;33m(\u001b[0m\u001b[0mimg\u001b[0m\u001b[1;33m)\u001b[0m\u001b[1;33m\u001b[0m\u001b[1;33m\u001b[0m\u001b[0m\n\u001b[1;32m---> 68\u001b[1;33m     \u001b[0mimg\u001b[0m \u001b[1;33m=\u001b[0m \u001b[0mauto_crop\u001b[0m\u001b[1;33m(\u001b[0m\u001b[0mimg\u001b[0m\u001b[1;33m)\u001b[0m\u001b[1;33m\u001b[0m\u001b[1;33m\u001b[0m\u001b[0m\n\u001b[0m\u001b[0;32m     69\u001b[0m     \u001b[1;32mreturn\u001b[0m \u001b[0mimg\u001b[0m\u001b[1;33m\u001b[0m\u001b[1;33m\u001b[0m\u001b[0m\n\u001b[0;32m     70\u001b[0m \u001b[1;33m\u001b[0m\u001b[0m\n",
      "\u001b[1;32m~\\AppData\\Local\\Temp/ipykernel_41144/866967214.py\u001b[0m in \u001b[0;36mauto_crop\u001b[1;34m(binary_image)\u001b[0m\n\u001b[0;32m     57\u001b[0m     \u001b[0mborder\u001b[0m \u001b[1;33m=\u001b[0m \u001b[1;36m50\u001b[0m\u001b[1;33m\u001b[0m\u001b[1;33m\u001b[0m\u001b[0m\n\u001b[0;32m     58\u001b[0m     \u001b[0mleft\u001b[0m \u001b[1;33m=\u001b[0m \u001b[0mmax\u001b[0m\u001b[1;33m(\u001b[0m\u001b[1;36m0\u001b[0m\u001b[1;33m,\u001b[0m \u001b[0mx\u001b[0m \u001b[1;33m-\u001b[0m \u001b[0mborder\u001b[0m\u001b[1;33m)\u001b[0m\u001b[1;33m\u001b[0m\u001b[1;33m\u001b[0m\u001b[0m\n\u001b[1;32m---> 59\u001b[1;33m     \u001b[0mright\u001b[0m \u001b[1;33m=\u001b[0m \u001b[0mmin\u001b[0m\u001b[1;33m(\u001b[0m\u001b[0mwidth\u001b[0m\u001b[1;33m,\u001b[0m \u001b[0mx\u001b[0m \u001b[1;33m+\u001b[0m \u001b[0mw\u001b[0m \u001b[1;33m+\u001b[0m \u001b[0mborder\u001b[0m\u001b[1;33m)\u001b[0m\u001b[1;33m\u001b[0m\u001b[1;33m\u001b[0m\u001b[0m\n\u001b[0m\u001b[0;32m     60\u001b[0m     \u001b[0mtop\u001b[0m \u001b[1;33m=\u001b[0m \u001b[0mmax\u001b[0m\u001b[1;33m(\u001b[0m\u001b[1;36m0\u001b[0m\u001b[1;33m,\u001b[0m \u001b[0my\u001b[0m \u001b[1;33m-\u001b[0m \u001b[0mborder\u001b[0m\u001b[1;33m)\u001b[0m\u001b[1;33m\u001b[0m\u001b[1;33m\u001b[0m\u001b[0m\n\u001b[0;32m     61\u001b[0m     \u001b[0mbottom\u001b[0m \u001b[1;33m=\u001b[0m \u001b[0mmin\u001b[0m\u001b[1;33m(\u001b[0m\u001b[0mheight\u001b[0m\u001b[1;33m,\u001b[0m \u001b[0my\u001b[0m \u001b[1;33m+\u001b[0m \u001b[0mh\u001b[0m \u001b[1;33m+\u001b[0m \u001b[0mborder\u001b[0m\u001b[1;33m)\u001b[0m\u001b[1;33m\u001b[0m\u001b[1;33m\u001b[0m\u001b[0m\n",
      "\u001b[1;31mTypeError\u001b[0m: 'int' object is not callable"
     ]
    }
   ],
   "source": [
    "# import arabic_reshaper\n",
    "# from bidi.algorithm import get_display\n",
    "# import PIL.Image, PIL.ImageFont, PIL.ImageDraw\n",
    "# import pyquran as q\n",
    "# from config import arabic_reshaper_config\n",
    "# import re \n",
    "# import requests\n",
    "# import numpy as np\n",
    "# import cv2\n",
    "# def remove_Quranic_stops(text: str) -> str:\n",
    "#     Quranic_stops = re.compile(\n",
    "#         '['\n",
    "#         '\\u06d6-\\u06ef'\n",
    "#         ']',\n",
    "\n",
    "#         re.UNICODE | re.X\n",
    "#     )\n",
    "\n",
    "#     return re.sub(Quranic_stops, \"\", text)\n",
    "\n",
    "# def remove_tashkeel(text: str) -> str:\n",
    "#     HARAKAT_RE = re.compile(\n",
    "#         '['\n",
    "#         '\\u0610-\\u061a'\n",
    "#         '\\u064b-\\u065f'\n",
    "#         '\\u0670'\n",
    "#         '\\u06d6-\\u06dc'\n",
    "#         '\\u06df-\\u06e8'\n",
    "#         '\\u06ea-\\u06ed'\n",
    "#         '\\u08d4-\\u08e1'\n",
    "#         '\\u08d4-\\u08ed'\n",
    "#         '\\u08e3-\\u08ff'\n",
    "#         ']',\n",
    "\n",
    "#         re.UNICODE | re.X\n",
    "#     )\n",
    "\n",
    "#     return re.sub(HARAKAT_RE, \"\", text)\n",
    "\n",
    "# def binarize(img: np.ndarray) -> np.ndarray:\n",
    "#     threshold, output_img = cv2.threshold(img, 0, 255, cv2.THRESH_BINARY + cv2.THRESH_OTSU)\n",
    "\n",
    "#     avg_corners = np.average([*output_img[0, :], *output_img[-1, :], *output_img[:, 0], *output_img[:, -1]])\n",
    "\n",
    "#     if avg_corners > (255 / 2) and cv2.countNonZero(output_img) / img.size >= 0.5:\n",
    "#         output_img = 255 - output_img\n",
    "\n",
    "#     return output_img\n",
    "\n",
    "\n",
    "# def auto_crop(binary_image: np.ndarray) -> np.ndarray:\n",
    "#     all_points = cv2.findNonZero(binary_image)\n",
    "#     x, y, w, h = cv2.boundingRect(all_points)\n",
    "\n",
    "#     height, width = binary_image.shape\n",
    "\n",
    "#     border = 50\n",
    "#     left = max(0, x - border)\n",
    "#     right = min(width, x + w + border)\n",
    "#     top = max(0, y - border)\n",
    "#     bottom = min(height, y + h + border)\n",
    "\n",
    "#     return binary_image[top:bottom, left:right]\n",
    "\n",
    "\n",
    "# def preprocess(img: np.ndarray) -> np.ndarray:\n",
    "#     img = binarize(img)\n",
    "#     img = auto_crop(img)\n",
    "#     return img\n",
    "\n",
    "\n",
    "# i = 0\n",
    "# reshaper = arabic_reshaper.ArabicReshaper(configuration=arabic_reshaper_config)\n",
    "# for surah in range(50, 115):\n",
    "#     surah = str(surah).zfill(3)\n",
    "#     text = requests.get(f\"https://www.quranful.com/text/ar-allah/{surah}.txt\").text\n",
    "\n",
    "#     for aya_index, aya in enumerate(text.split('\\n')):\n",
    "#         if len(aya) >= 50 or aya.strip() == '':\n",
    "#             continue\n",
    "\n",
    "#         for font_name in [\"parsi\"]:\n",
    "#             if font_name in [\"parsi\"]:\n",
    "#                 text_to_be_reshaped = remove_tashkeel(text_to_be_reshaped)\n",
    "#             text_to_be_reshaped = remove_Quranic_stops(aya)\n",
    "#             reshaped_text = reshaper.reshape(text_to_be_reshaped)\n",
    "\n",
    "#             rev_text = reshaped_text[::-1]  # slice backwards\n",
    "\n",
    "#             font = PIL.ImageFont.truetype(f\"{font_name}.ttf\", 100)\n",
    "#             img = PIL.Image.new(\"L\", (2500, 400), color=0)\n",
    "#             draw = PIL.ImageDraw.Draw(img)\n",
    "\n",
    "#             draw.text((50, 50), rev_text, fill=255, font=font)\n",
    "#             draw = PIL.ImageDraw.Draw(img)\n",
    "\n",
    "#             img = preprocess(np.array(img))\n",
    "#             cv2.imwrite(\"parsi/image\"+str(i)+\".jpg\", img)\n",
    "#             i+=1\n",
    "\n",
    "\n",
    "\n",
    "\n"
   ]
  },
  {
   "cell_type": "code",
   "execution_count": null,
   "metadata": {},
   "outputs": [],
   "source": [
    "# def process_HVSL():\n",
    "#     features =[]\n",
    "#     for path in x:\n",
    "#         img = io.imread(path, 1)\n",
    "#         bw_img=local_binarize(img)\n",
    "#         edge, skeleton, diacritics, text_only=processing_images(bw_img)\n",
    "#     return features, y"
   ]
  },
  {
   "cell_type": "code",
   "execution_count": null,
   "metadata": {},
   "outputs": [
    {
     "name": "stdout",
     "output_type": "stream",
     "text": [
      "337 test\n",
      "class1\n",
      "0.10256410256410256 1\n",
      "class2\n",
      "0.1282051282051282 2\n",
      "class3\n",
      "0.11428571428571428 3\n",
      "class4\n",
      "0.14285714285714285 4\n",
      "class5\n",
      "0.14634146341463414 5\n",
      "class6\n",
      "0.15384615384615385 6\n",
      "class7\n",
      "0.13953488372093023 7\n",
      "class8\n",
      "0.07142857142857142 8\n",
      "class9\n",
      "0.06666666666666667 9\n",
      "337 test\n",
      "class3 [4 2 5 1 3 8 3 1 7 1 7 4 6 2 7 8 3 9 1 1 9 8 2 5 3 8 1 7 2 5 8 4 2 4 8]\n",
      "0.11428571428571428 3\n",
      "class6 [6 6 4 3 9 9 4 8 2 4 4 5 9 9 6 4 4 8 9 5 6 8 2 9 1 1 7 9 5 5 7 2 6 8 3 7 3\n",
      " 6 9]\n",
      "0.15384615384615385 6\n"
     ]
    }
   ],
   "source": [
    "import numpy as np\n",
    "print(len(y_test), \"test\")\n",
    "y_test = np.array(y_val)\n",
    "for i in np.unique(y_test):\n",
    "    class1 = np.where(y_test==i)[0]\n",
    "    print(\"class\"+str(i))\n",
    "    acc = sum(i == poly_pred[class1])/len(class1)\n",
    "    print(acc, i)\n",
    "\n",
    "import numpy as np\n",
    "print(len(y_test), \"test\")\n",
    "y_test = np.array(y_test)\n",
    "for i in [3,6]:\n",
    "    class1 = np.where(y_test==i)[0]\n",
    "    print(\"class\"+str(i), poly_pred[class1])\n",
    "    acc = sum(i == poly_pred[class1])/len(class1)\n",
    "    print(acc, i)\n"
   ]
  }
 ],
 "metadata": {
  "kernelspec": {
   "display_name": "Python 3",
   "language": "python",
   "name": "python3"
  },
  "language_info": {
   "codemirror_mode": {
    "name": "ipython",
    "version": 3
   },
   "file_extension": ".py",
   "mimetype": "text/x-python",
   "name": "python",
   "nbconvert_exporter": "python",
   "pygments_lexer": "ipython3",
   "version": "3.10.1"
  }
 },
 "nbformat": 4,
 "nbformat_minor": 4
}
