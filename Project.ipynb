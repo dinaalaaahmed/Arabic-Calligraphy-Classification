{
 "cells": [
  {
   "cell_type": "code",
   "execution_count": 1,
   "metadata": {},
   "outputs": [],
   "source": [
    "from commonfunctions import *\n",
    "from sklearn import svm, datasets\n",
    "import sklearn.model_selection as model_selection\n",
    "from sklearn.metrics import accuracy_score\n",
    "from sklearn.metrics import f1_score\n",
    "from scipy.signal import argrelextrema\n",
    "import cv2\n",
    "import os\n",
    "from skimage.filters import threshold_mean\n",
    "from skimage import transform\n",
    "from skimage.color import rgb2gray"
   ]
  },
  {
   "cell_type": "code",
   "execution_count": 2,
   "metadata": {},
   "outputs": [],
   "source": [
    "######## return hog features from input image #########\n",
    "def extract_hog_features(img):\n",
    "    target_img_size = (64, 64)\n",
    "    img = cv2.resize(img, target_img_size)\n",
    "    win_size = (64, 64)\n",
    "    cell_size = (8, 8)\n",
    "    block_size_in_cells = (2, 2)\n",
    "    \n",
    "    block_size = (block_size_in_cells[1] * cell_size[1], block_size_in_cells[0] * cell_size[0])\n",
    "    block_stride = (cell_size[1], cell_size[0])\n",
    "    nbins = 9  # Number of orientation bins\n",
    "    hog = cv2.HOGDescriptor(win_size, block_size, block_stride, cell_size, nbins)\n",
    "    h = hog.compute(img)\n",
    "    h = h.flatten()\n",
    "    return h.flatten()"
   ]
  },
  {
   "cell_type": "code",
   "execution_count": 3,
   "metadata": {},
   "outputs": [],
   "source": [
    "####### return hog features from arr of images ###########\n",
    "def feature_extraction_hog(images):\n",
    "    feature = []\n",
    "    for img in images:\n",
    "        img = img.astype('uint8')\n",
    "        img = cv2.resize(img, (64, 64), cv2.INTER_AREA)\n",
    "        featuresHog = extract_hog_features(img.astype('uint8'))\n",
    "        feature.append(featuresHog)\n",
    "    return feature"
   ]
  },
  {
   "cell_type": "code",
   "execution_count": 4,
   "metadata": {},
   "outputs": [],
   "source": [
    "######## binarize image ##########\n",
    "def local_binarize(img, block_size = 35, offset_val = 10):\n",
    "    img=img_as_ubyte(img)\n",
    "    return img < threshold_otsu(img)\n"
   ]
  },
  {
   "cell_type": "code",
   "execution_count": 5,
   "metadata": {},
   "outputs": [],
   "source": [
    "###### function that takes the folder of the dataset then returns array of images and their labels ########\n",
    "def load_images_from_folder(folders):\n",
    "    images = []\n",
    "    y=[]\n",
    "    i = 1\n",
    "    for folder in folders:   \n",
    "        for filename in os.listdir(folder):\n",
    "            img = io.imread(os.path.join(folder,filename), as_gray = True)\n",
    "            if img is not None:\n",
    "\n",
    "                images.append(local_binarize(img))\n",
    "                y.append(i)\n",
    "        i+=1\n",
    "    return images, y"
   ]
  },
  {
   "cell_type": "code",
   "execution_count": 6,
   "metadata": {},
   "outputs": [],
   "source": [
    "############### function that extracts hog features from dataset ###################\n",
    "def process_Hog():\n",
    "    \n",
    "    images, y = load_images_from_folder([\"N:\\Downloads\\ACdata_base\\\\1\",\"N:\\Downloads\\ACdata_base\\\\2\",\"N:\\Downloads\\ACdata_base\\\\3\",\"N:\\Downloads\\ACdata_base\\\\4\",\"N:\\Downloads\\ACdata_base\\\\5\",\"N:\\Downloads\\ACdata_base\\\\6\",\"N:\\Downloads\\ACdata_base\\\\7\",\"N:\\Downloads\\ACdata_base\\\\8\",\"N:\\Downloads\\ACdata_base\\\\9\"])\n",
    "    features = feature_extraction_hog(images)\n",
    "    return features, y"
   ]
  },
  {
   "cell_type": "code",
   "execution_count": 7,
   "metadata": {},
   "outputs": [
    {
     "name": "stdout",
     "output_type": "stream",
     "text": [
      "Accuracy (Polynomial Kernel):  86.05\n",
      "F1 (Polynomial Kernel):  85.88\n"
     ]
    }
   ],
   "source": [
    "################# demo test for hog extraction from dataset using support vector machine\n",
    "X, y = process_Hog()\n",
    "X_train, X_test, y_train, y_test = model_selection.train_test_split(X, y, test_size=0.2, random_state=1)\n",
    "X_train, X_val, y_train, y_val = model_selection.train_test_split(X_train, y_train, test_size=0.25, random_state=1) # 0.25 x 0.8 = 0.2\n",
    "poly = svm.SVC(kernel='rbf', degree=3, C=5).fit(X_train, y_train)\n",
    "poly_pred = poly.predict(X_test)\n",
    "poly_accuracy = accuracy_score(y_test, poly_pred)\n",
    "poly_f1 = f1_score(y_test, poly_pred, average='weighted')\n",
    "print('Accuracy (Polynomial Kernel): ', \"%.2f\" % (poly_accuracy*100))\n",
    "print('F1 (Polynomial Kernel): ', \"%.2f\" % (poly_f1*100))\n"
   ]
  },
  {
   "cell_type": "code",
   "execution_count": 8,
   "metadata": {},
   "outputs": [],
   "source": [
    "####### function that returns the row of the text basline #######\n",
    "def baseline(img):\n",
    "    horizontal_projection = np.sum(img, axis=1)\n",
    "    return np.argmax(horizontal_projection)\n"
   ]
  },
  {
   "cell_type": "code",
   "execution_count": 9,
   "metadata": {},
   "outputs": [],
   "source": [
    "######### takes binary image and returns skeleton, edge, text-only, diacretecs image\n",
    "def processing_images(binary_img):\n",
    "    bw_img=binary_img\n",
    "    baseline_i=baseline(bw_img)\n",
    "    seeds=[]\n",
    "    for j in range(bw_img.shape[1]-1):\n",
    "        if(bw_img[baseline_i][j]==False and bw_img[baseline_i][j+1]==True):\n",
    "            seeds.append(j+1)\n",
    "    diacritics = bw_img\n",
    "    for j in seeds:\n",
    "        diacritics = flood_fill(diacritics, (baseline_i, j), False)\n",
    "    text_only = bw_img != diacritics\n",
    "    sobel_img = sobel(bw_img)\n",
    "    skeletonized_img=skeletonize(bw_img)\n",
    "    \n",
    "    return sobel_img, skeletonized_img, diacritics, text_only"
   ]
  },
  {
   "cell_type": "code",
   "execution_count": 10,
   "metadata": {},
   "outputs": [],
   "source": [
    "####### function that returns num of horizontal and vertical lines\n",
    "def HVSL(bw_image):\n",
    "    # hough line to detect lines in the photo\n",
    "    tested_angles = np.linspace(np.pi, np.pi / 2, 2)\n",
    "    h, theta, d = hough_line(bw_image, theta=tested_angles)\n",
    "    origin = np.array((0, bw_image.shape[1]))\n",
    "    # hough peaks to get those lines\n",
    "    angles=[]\n",
    "    for _, angle, dist in zip(*hough_line_peaks(h, theta, d)):\n",
    "        y0, y1 = (dist - origin * np.cos(angle)) / np.sin(angle)\n",
    "        angles.append(angle)\n",
    "    angles = [angle * 180 / np.pi for angle in angles]\n",
    "    return angles.count(90.0), angles.count(180.0)\n",
    "\n"
   ]
  },
  {
   "cell_type": "code",
   "execution_count": 11,
   "metadata": {},
   "outputs": [],
   "source": [
    "################### 1st feature ##################\n",
    "def HVSL_features(edge):\n",
    "    vertical_lines, horizontal_lines = HVSL(edge)\n",
    "    ratio_pixels_HVL = np.count_nonzero(edge)/(vertical_lines + horizontal_lines)\n",
    "    vertical_lines, horizontal_lines, ratio_pixels_HVL\n",
    "    print(ratio_pixels_HVL)\n",
    "    print(vertical_lines, \"vertical lines\", horizontal_lines)"
   ]
  },
  {
   "cell_type": "code",
   "execution_count": 16,
   "metadata": {},
   "outputs": [],
   "source": [
    "def text_height_feature(skeleton):\n",
    "    skeleton = img_as_ubyte(skeleton)\n",
    "    kernel_vertical_line=np.ones((5,1))\n",
    "    line = cv2.morphologyEx(skeleton, cv2.MORPH_OPEN, kernel_vertical_line)\n",
    "    line=line/255\n",
    "    start_height=0\n",
    "    end_height=0\n",
    "    for i in range(line.shape[0]):\n",
    "        if(np.any((line[i] == 1))):\n",
    "            start_height = i\n",
    "            break\n",
    "    for i in range(line.shape[0]-1, 0, -1):\n",
    "        if(np.any((line[i] == 1))):\n",
    "            end_height = i\n",
    "            break\n",
    "    text_height = abs(start_height-end_height)\n",
    "    print(text_height)\n",
    "    return text_height\n",
    "    show_images([line],['line'])\n",
    "\n"
   ]
  },
  {
   "cell_type": "code",
   "execution_count": 17,
   "metadata": {},
   "outputs": [
    {
     "data": {
      "image/png": "[encoded data removed]",
      "text/plain": [
       "<Figure size 2160x1440 with 5 Axes>"
      ]
     },
     "metadata": {
      "needs_background": "light"
     },
     "output_type": "display_data"
    },
    {
     "name": "stdout",
     "output_type": "stream",
     "text": [
      "1558.2941176470588\n",
      "5 vertical lines 12\n",
      "586\n"
     ]
    },
    {
     "data": {
      "text/plain": [
       "586"
      ]
     },
     "execution_count": 17,
     "metadata": {},
     "output_type": "execute_result"
    }
   ],
   "source": [
    "img = io.imread('N:\\Downloads\\ACdata_base\\\\9\\\\1496.jpg', 1)\n",
    "bw_img=local_binarize(img)\n",
    "edge, skeleton, diacritics, text_only=processing_images(bw_img)\n",
    "show_images([bw_img, edge, skeleton, diacritics, text_only],['bw_img', 'edge', 'skeleton', 'diacritics', 'text_only'])\n",
    "\n",
    "################### 1st feature ##################\n",
    "HVSL_features(edge)\n",
    "################## 3st feature ###################\n",
    "text_height_feature(skeleton)\n",
    "\n",
    "\n",
    "\n",
    "###############################\n",
    "# line_width, line_space, _ = find_ref_lengths(bw_img)\n",
    "# max_vertical_line_height, _, _ = find_ref_lengths(line)\n",
    "# print(max_vertical_line_height,\"max\")\n",
    "####################################\n"
   ]
  },
  {
   "cell_type": "code",
   "execution_count": null,
   "metadata": {},
   "outputs": [],
   "source": []
  },
  {
   "cell_type": "code",
   "execution_count": null,
   "metadata": {},
   "outputs": [],
   "source": []
  },
  {
   "cell_type": "code",
   "execution_count": null,
   "metadata": {},
   "outputs": [],
   "source": []
  },
  {
   "cell_type": "code",
   "execution_count": null,
   "metadata": {},
   "outputs": [],
   "source": []
  },
  {
   "cell_type": "code",
   "execution_count": null,
   "metadata": {},
   "outputs": [],
   "source": []
  }
 ],
 "metadata": {
  "kernelspec": {
   "display_name": "Python 3",
   "language": "python",
   "name": "python3"
  },
  "language_info": {
   "codemirror_mode": {
    "name": "ipython",
    "version": 3
   },
   "file_extension": ".py",
   "mimetype": "text/x-python",
   "name": "python",
   "nbconvert_exporter": "python",
   "pygments_lexer": "ipython3",
   "version": "3.9.1"
  }
 },
 "nbformat": 4,
 "nbformat_minor": 4
}
