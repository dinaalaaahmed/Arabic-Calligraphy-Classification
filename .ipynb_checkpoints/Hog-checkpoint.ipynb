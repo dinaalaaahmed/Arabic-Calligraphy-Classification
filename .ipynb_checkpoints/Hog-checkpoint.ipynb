{
 "cells": [
  {
   "cell_type": "code",
   "execution_count": 1,
   "metadata": {},
   "outputs": [],
   "source": [
    "from commonfunctions import *\n",
    "from sklearn import svm, datasets\n",
    "import sklearn.model_selection as model_selection\n",
    "from sklearn.metrics import accuracy_score\n",
    "from sklearn.metrics import f1_score\n",
    "from scipy.signal import argrelextrema\n"
   ]
  },
  {
   "cell_type": "code",
   "execution_count": 2,
   "metadata": {},
   "outputs": [],
   "source": [
    "import cv2\n",
    "import os\n",
    "\n",
    "def extract_hog_features(img):\n",
    "    target_img_size = (64, 64)\n",
    "    img = cv2.resize(img, target_img_size)\n",
    "    win_size = (64, 64)\n",
    "    cell_size = (8, 8)\n",
    "    block_size_in_cells = (2, 2)\n",
    "    \n",
    "    block_size = (block_size_in_cells[1] * cell_size[1], block_size_in_cells[0] * cell_size[0])\n",
    "    block_stride = (cell_size[1], cell_size[0])\n",
    "    nbins = 9  # Number of orientation bins\n",
    "    hog = cv2.HOGDescriptor(win_size, block_size, block_stride, cell_size, nbins)\n",
    "    h = hog.compute(img)\n",
    "    h = h.flatten()\n",
    "    return h.flatten()\n",
    "def feature_extraction_hog(images):\n",
    "    feature = []\n",
    "    for img in images:\n",
    "        img = img.astype('uint8')\n",
    "        img = cv2.resize(img, (64, 64), cv2.INTER_AREA)\n",
    "        featuresHog = extract_hog_features(img.astype('uint8'))\n",
    "        feature.append(featuresHog)\n",
    "    return feature\n",
    "from skimage.filters import threshold_mean\n",
    "\n",
    "def local_binarize(img, block_size = 35, offset_val = 10):\n",
    "    img=img_as_ubyte(img)\n",
    "    return img < threshold_otsu(img)\n",
    "\n",
    "\n",
    "def load_images_from_folder(folders):\n",
    "    images = []\n",
    "    y=[]\n",
    "    i = 1\n",
    "    for folder in folders:   \n",
    "        for filename in os.listdir(folder):\n",
    "            img = io.imread(os.path.join(folder,filename), as_gray = True)\n",
    "            if img is not None:\n",
    "\n",
    "                images.append(local_binarize(img))\n",
    "                y.append(i)\n",
    "        i+=1\n",
    "    return images, y\n",
    "\n",
    "from skimage import transform\n",
    "from skimage.color import rgb2gray\n",
    "# from skimage.feature import match_descriptors, plot_matches, SIFT\n",
    "\n",
    "def feature_extraction_sift(images):\n",
    "    feature = []\n",
    "    for img in images:\n",
    "        descriptor_extractor = SIFT()\n",
    "        descriptor_extractor.detect_and_extract(img)\n",
    "        keypoints1 = descriptor_extractor.keypoints\n",
    "        descriptors1 = descriptor_extractor.descriptors\n",
    "        feature.append(descriptors1)\n",
    "        print(keypoints1,descriptors1)\n",
    "    return feature       \n",
    "\n",
    "def process_Hog():\n",
    "    \n",
    "    images, y = load_images_from_folder([\"N:\\Downloads\\ACdata_base\\\\1\",\"N:\\Downloads\\ACdata_base\\\\2\",\"N:\\Downloads\\ACdata_base\\\\3\",\"N:\\Downloads\\ACdata_base\\\\4\",\"N:\\Downloads\\ACdata_base\\\\5\",\"N:\\Downloads\\ACdata_base\\\\6\",\"N:\\Downloads\\ACdata_base\\\\7\",\"N:\\Downloads\\ACdata_base\\\\8\",\"N:\\Downloads\\ACdata_base\\\\9\"])\n",
    "    features = feature_extraction_hog(images)\n",
    "    return features, y\n",
    "\n",
    "def process_Sift():\n",
    "    images, y = load_images_from_folder([\"N:\\Downloads\\ACdata_base\\\\1\",\"N:\\Downloads\\ACdata_base\\\\2\",\"N:\\Downloads\\ACdata_base\\\\3\",\"N:\\Downloads\\ACdata_base\\\\4\",\"N:\\Downloads\\ACdata_base\\\\5\",\"N:\\Downloads\\ACdata_base\\\\6\",\"N:\\Downloads\\ACdata_base\\\\7\",\"N:\\Downloads\\ACdata_base\\\\8\",\"N:\\Downloads\\ACdata_base\\\\9\"])\n",
    "    features = feature_extraction_sift(images)\n",
    "    return features, y"
   ]
  },
  {
   "cell_type": "code",
   "execution_count": 3,
   "metadata": {},
   "outputs": [],
   "source": [
    "\n",
    "X, y = process_Hog()\n",
    "X_train, X_test, y_train, y_test = model_selection.train_test_split(X, y, test_size=0.2, random_state=1)\n",
    "\n",
    "X_train, X_val, y_train, y_val = model_selection.train_test_split(X_train, y_train, test_size=0.25, random_state=1) # 0.25 x 0.8 = 0.2\n",
    "poly = svm.SVC(kernel='rbf', degree=3, C=5).fit(X_train, y_train)\n",
    "poly_pred = poly.predict(X_test)\n",
    "poly_accuracy = accuracy_score(y_test, poly_pred)\n",
    "poly_f1 = f1_score(y_test, poly_pred, average='weighted')\n",
    "print('Accuracy (Polynomial Kernel): ', \"%.2f\" % (poly_accuracy*100))\n",
    "print('F1 (Polynomial Kernel): ', \"%.2f\" % (poly_f1*100))\n"
   ]
  },
  {
   "cell_type": "code",
   "execution_count": 4,
   "metadata": {},
   "outputs": [],
   "source": []
  },
  {
   "cell_type": "raw",
   "metadata": {},
   "source": []
  },
  {
   "cell_type": "code",
   "execution_count": 5,
   "metadata": {},
   "outputs": [
    {
     "name": "stdout",
     "output_type": "stream",
     "text": [
      "Accuracy (Polynomial Kernel):  86.05\n",
      "F1 (Polynomial Kernel):  85.88\n"
     ]
    }
   ],
   "source": []
  },
  {
   "cell_type": "code",
   "execution_count": 37,
   "metadata": {},
   "outputs": [],
   "source": [
    "def find_ref_lengths(img):\n",
    "    show_images([img],['ylhhwkhwk'])\n",
    "    white_runs = []\n",
    "    black_runs = []\n",
    "    for col in img.T:\n",
    "        #add 0 at the start and end to handle the length\n",
    "        bounded = np.hstack(([0], col, [0]))\n",
    "        #get the first difference\n",
    "        difs = np.diff(bounded)\n",
    "        #a run of ones starts at (1) and ends at (-1)\n",
    "        run_starts, = np.where(difs > 0)\n",
    "        run_ends, = np.where(difs < 0)\n",
    "        \n",
    "        #Append the runs:\n",
    "        white_runs.extend(run_ends - run_starts)\n",
    "        black_runs.extend(run_starts[1:] - run_ends[:-1])\n",
    "    \n",
    "    line_width = np.bincount(white_runs).max()\n",
    "    line_spacing = np.bincount(black_runs).max()\n",
    "    print(np.bincount(white_runs),\"line width\")\n",
    "     \n",
    "    return line_width, line_spacing, white_runs\n"
   ]
  },
  {
   "cell_type": "code",
   "execution_count": 38,
   "metadata": {},
   "outputs": [],
   "source": [
    "def baseline(img):\n",
    "    horizontal_projection = np.sum(img, axis=1)\n",
    "    return np.argmax(horizontal_projection)\n",
    "\n",
    "  \n",
    "def processing_images(binary_img):\n",
    "    bw_img=binary_img\n",
    "    baseline_i=baseline(bw_img)\n",
    "    seeds=[]\n",
    "    for j in range(bw_img.shape[1]-1):\n",
    "        if(bw_img[baseline_i][j]==False and bw_img[baseline_i][j+1]==True):\n",
    "            seeds.append(j+1)\n",
    "    diacritics = bw_img\n",
    "    for j in seeds:\n",
    "        diacritics = flood_fill(diacritics, (baseline_i, j), False)\n",
    "    text_only = bw_img != diacritics\n",
    "    sobel_img = sobel(bw_img)\n",
    "    skeletonized_img=skeletonize(bw_img)\n",
    "    \n",
    "    return sobel_img, skeletonized_img, diacritics, text_only"
   ]
  },
  {
   "cell_type": "code",
   "execution_count": null,
   "metadata": {},
   "outputs": [],
   "source": []
  },
  {
   "cell_type": "code",
   "execution_count": 39,
   "metadata": {},
   "outputs": [],
   "source": [
    "def HVSL(bw_image):\n",
    "    # hough line to detect lines in the photo\n",
    "    tested_angles = np.linspace(np.pi, np.pi / 2, 2)\n",
    "    h, theta, d = hough_line(bw_image, theta=tested_angles)\n",
    "    origin = np.array((0, bw_image.shape[1]))\n",
    "    # hough peaks to get those lines\n",
    "    angles=[]\n",
    "    for _, angle, dist in zip(*hough_line_peaks(h, theta, d)):\n",
    "        y0, y1 = (dist - origin * np.cos(angle)) / np.sin(angle)\n",
    "        angles.append(angle)\n",
    "    angles = [angle * 180 / np.pi for angle in angles]\n",
    "    return angles.count(90.0), angles.count(180.0)\n",
    "\n"
   ]
  },
  {
   "cell_type": "code",
   "execution_count": 40,
   "metadata": {},
   "outputs": [
    {
     "name": "stdout",
     "output_type": "stream",
     "text": [
      "5 vertical lines 12\n"
     ]
    },
    {
     "data": {
      "image/png": "[encoded data removed]",
      "text/plain": [
       "<Figure size 432x288 with 1 Axes>"
      ]
     },
     "metadata": {
      "needs_background": "light"
     },
     "output_type": "display_data"
    },
    {
     "name": "stdout",
     "output_type": "stream",
     "text": [
      "[0 0 0 0 0 0 0 0 0 0 0 0 0 0 0 0 0 0 0 0 0 0 0 0 0 0 0 0 1 0 1 0 0 0 0 0 0\n",
      " 0 0 0 3 0 0 0 0 0 0 0 0 0 0 0 0 0 3 4 1 0 0 0 0 0 0 0 0 0 0 0 0 0 0 0 0 0\n",
      " 0 0 0 0 0 0 0 0 0 0 0 0 0 0 0 0 0 0 0 0 0 0 0 0 0 0 0 0 0 0 0 0 0 0 0 3 2\n",
      " 0 0 0 0 0 0 0 0 0 0 0 0 0 0 0 0 0 0 0 0 0 0 0 0 0 0 0 0 0 0 0 0 0 0 0 0 0\n",
      " 0 1 0 0 0 0 0 0 0 0 0 0 0 0 0 0 0 3 0 0 0 0 0 0 0 0 0 0 0 0 0 0 0 0 0 0 0\n",
      " 0 0 0 0 0 0 0 0 0 0 0 0 0 0 0 0 0 0 0 1 1 0 0 0 0 0 0 0 0 0 0 0 0 0 1 1 0\n",
      " 0 0 0 0 0 0 0 0 0 0 0 0 0 0 0 0 0 0 0 0 0 0 0 0 0 0 0 0 0 0 0 0 0 0 0 0 0\n",
      " 2 0 0 0 0 0 0 0 0 0 0 0 0 0 0 1 0 0 0 0 0 0 0 0 0 0 0 0 0 0 0 0 0 0 0 0 0\n",
      " 0 0 0 0 0 0 0 0 0 0 0 0 0 0 0 0 0 1 0 0 0 0 0 0 0 0 0 0 0 0 0 0 0 0 0 0 0\n",
      " 0 0 0 0 0 0 0 0 0 0 0 0 0 0 0 0 0 0 0 0 0 0 0 0 0 0 0 0 0 0 0 0 0 0 0 0 1] line width\n",
      "4 max\n",
      "1558.2941176470588\n"
     ]
    },
    {
     "data": {
      "image/png": "[encoded data removed]",
      "text/plain": [
       "<Figure size 2592x1728 with 6 Axes>"
      ]
     },
     "metadata": {
      "needs_background": "light"
     },
     "output_type": "display_data"
    },
    {
     "data": {
      "image/png": "[encoded data removed]",
      "text/plain": [
       "<Figure size 432x288 with 1 Axes>"
      ]
     },
     "metadata": {
      "needs_background": "light"
     },
     "output_type": "display_data"
    }
   ],
   "source": [
    "img = io.imread('N:\\Downloads\\ACdata_base\\\\9\\\\1496.jpg', 1)\n",
    "bw_img=local_binarize(img)\n",
    "# line_width, line_space, _ = find_ref_lengths(bw_img)\n",
    "\n",
    "edge, skeleton, diacritics, text_only=processing_images(bw_img)\n",
    "\n",
    "################### 1st feature ##################\n",
    "vertical_lines, horizontal_lines = HVSL(edge)\n",
    "ratio_pixels_HVL = np.count_nonzero(edge)/(vertical_lines + horizontal_lines)\n",
    "print(ratio_pixels_HVL)\n",
    "\n",
    "\n",
    "print(vertical_lines, \"vertical lines\", horizontal_lines)\n",
    "\n",
    "\n",
    "################## 3st feature ###################\n",
    "skeleton = img_as_ubyte(skeleton)\n",
    "kernel_vertical_line=np.ones((line_width,1))\n",
    "line = cv2.morphologyEx(skeleton, cv2.MORPH_OPEN, kernel_vertical_line)\n",
    "line=line/255\n",
    "start_height=0\n",
    "end_height=0\n",
    "for i in range(line.shape[0]):\n",
    "    if(np.any((line[i] == 1))):\n",
    "        start_height = i\n",
    "        break\n",
    "for i in range(line.shape[0]-1, 0, -1):\n",
    "    if(np.any((line[i] == 1))):\n",
    "        end_height = i\n",
    "        break\n",
    "text_height = abs(start_height-end_height)\n",
    "\n",
    "###############################\n",
    "max_vertical_line_height, _, _ = find_ref_lengths(line)\n",
    "print(max_vertical_line_height,\"max\")\n",
    "####################################\n",
    "\n",
    "show_images([bw_img, edge, skeleton, diacritics, text_only, line],['bw_img', 'edge', 'skeleton', 'diacritics', 'text_only', 'line'])\n",
    "show_images([line],['line'])\n"
   ]
  },
  {
   "cell_type": "code",
   "execution_count": 41,
   "metadata": {},
   "outputs": [],
   "source": [
    "# img=img_as_ubyte(bw_img)\n",
    "# from PIL import Image, ImageChops\n",
    "\n",
    "# def fill(img):\n",
    "#     im_th = img.astype('uint8')\n",
    "#     im_floodfill = im_th.copy()\n",
    "#     h, w = im_th.shape[:2]\n",
    "#     mask = np.zeros((h+2, w+2), np.uint8)\n",
    "#     cv2.floodFill(im_floodfill, mask, (0,0), 255)\n",
    "# #     im_floodfill_inv = cv2.bitwise_not(im_floodfill)\n",
    "#     im_out = im_th == im_floodfill \n",
    "#     return im_out\n",
    "\n",
    "# im=fill(img)\n",
    "# show_images([img, im],['F1 image','F2 image'])\n"
   ]
  },
  {
   "cell_type": "code",
   "execution_count": null,
   "metadata": {},
   "outputs": [],
   "source": []
  },
  {
   "cell_type": "code",
   "execution_count": null,
   "metadata": {},
   "outputs": [],
   "source": []
  },
  {
   "cell_type": "code",
   "execution_count": null,
   "metadata": {},
   "outputs": [],
   "source": []
  }
 ],
 "metadata": {
  "kernelspec": {
   "display_name": "Python 3",
   "language": "python",
   "name": "python3"
  },
  "language_info": {
   "codemirror_mode": {
    "name": "ipython",
    "version": 3
   },
   "file_extension": ".py",
   "mimetype": "text/x-python",
   "name": "python",
   "nbconvert_exporter": "python",
   "pygments_lexer": "ipython3",
   "version": "3.9.1"
  }
 },
 "nbformat": 4,
 "nbformat_minor": 4
}
